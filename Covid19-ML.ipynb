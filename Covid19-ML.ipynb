{
 "cells": [
  {
   "cell_type": "markdown",
   "metadata": {
    "id": "yVhVlgnuKp5Z"
   },
   "source": [
    "This assignment is suggested to complete on Google colab  (https://colab.research.google.com/) to benefit from its GPU support. "
   ]
  },
  {
   "cell_type": "code",
   "execution_count": 1,
   "metadata": {
    "collapsed": true,
    "id": "f6iKIVz6OOwP"
   },
   "outputs": [],
   "source": [
    "# importing common libraries\n",
    "import os\n",
    "import numpy as np\n",
    "import pandas as pd\n",
    "import warnings \n",
    "import matplotlib\n",
    "import matplotlib.pyplot as plt\n",
    "import seaborn as sns\n",
    "%matplotlib inline"
   ]
  },
  {
   "cell_type": "markdown",
   "metadata": {
    "id": "AQwOfTcEpbD1"
   },
   "source": [
    "#### **Part 1: Linear SVM Classifier**"
   ]
  },
  {
   "cell_type": "markdown",
   "metadata": {
    "id": "sKWC0Gt9plH8"
   },
   "source": [
    " Binary classification on given dataset"
   ]
  },
  {
   "cell_type": "code",
   "execution_count": 2,
   "metadata": {
    "colab": {
     "base_uri": "https://localhost:8080/",
     "height": 399
    },
    "id": "4P7Nx81WOOwX",
    "outputId": "be0f0656-c63d-41c2-af65-ee6843a83849"
   },
   "outputs": [
    {
     "data": {
      "text/html": [
       "<div>\n",
       "<style scoped>\n",
       "    .dataframe tbody tr th:only-of-type {\n",
       "        vertical-align: middle;\n",
       "    }\n",
       "\n",
       "    .dataframe tbody tr th {\n",
       "        vertical-align: top;\n",
       "    }\n",
       "\n",
       "    .dataframe thead th {\n",
       "        text-align: right;\n",
       "    }\n",
       "</style>\n",
       "<table border=\"1\" class=\"dataframe\">\n",
       "  <thead>\n",
       "    <tr style=\"text-align: right;\">\n",
       "      <th></th>\n",
       "      <th>malic_acid</th>\n",
       "      <th>ash</th>\n",
       "    </tr>\n",
       "  </thead>\n",
       "  <tbody>\n",
       "    <tr>\n",
       "      <th>95</th>\n",
       "      <td>1.52</td>\n",
       "      <td>2.20</td>\n",
       "    </tr>\n",
       "    <tr>\n",
       "      <th>3</th>\n",
       "      <td>1.95</td>\n",
       "      <td>2.50</td>\n",
       "    </tr>\n",
       "    <tr>\n",
       "      <th>43</th>\n",
       "      <td>3.98</td>\n",
       "      <td>2.29</td>\n",
       "    </tr>\n",
       "    <tr>\n",
       "      <th>6</th>\n",
       "      <td>1.87</td>\n",
       "      <td>2.45</td>\n",
       "    </tr>\n",
       "    <tr>\n",
       "      <th>84</th>\n",
       "      <td>0.89</td>\n",
       "      <td>2.58</td>\n",
       "    </tr>\n",
       "    <tr>\n",
       "      <th>...</th>\n",
       "      <td>...</td>\n",
       "      <td>...</td>\n",
       "    </tr>\n",
       "    <tr>\n",
       "      <th>123</th>\n",
       "      <td>5.80</td>\n",
       "      <td>2.13</td>\n",
       "    </tr>\n",
       "    <tr>\n",
       "      <th>67</th>\n",
       "      <td>1.17</td>\n",
       "      <td>1.92</td>\n",
       "    </tr>\n",
       "    <tr>\n",
       "      <th>64</th>\n",
       "      <td>1.45</td>\n",
       "      <td>2.53</td>\n",
       "    </tr>\n",
       "    <tr>\n",
       "      <th>117</th>\n",
       "      <td>1.61</td>\n",
       "      <td>2.19</td>\n",
       "    </tr>\n",
       "    <tr>\n",
       "      <th>47</th>\n",
       "      <td>1.68</td>\n",
       "      <td>2.12</td>\n",
       "    </tr>\n",
       "  </tbody>\n",
       "</table>\n",
       "<p>91 rows × 2 columns</p>\n",
       "</div>"
      ],
      "text/plain": [
       "     malic_acid   ash\n",
       "95         1.52  2.20\n",
       "3          1.95  2.50\n",
       "43         3.98  2.29\n",
       "6          1.87  2.45\n",
       "84         0.89  2.58\n",
       "..          ...   ...\n",
       "123        5.80  2.13\n",
       "67         1.17  1.92\n",
       "64         1.45  2.53\n",
       "117        1.61  2.19\n",
       "47         1.68  2.12\n",
       "\n",
       "[91 rows x 2 columns]"
      ]
     },
     "execution_count": 2,
     "metadata": {
      "tags": []
     },
     "output_type": "execute_result"
    }
   ],
   "source": [
    "from sklearn import datasets\n",
    "from sklearn.model_selection import train_test_split\n",
    "\n",
    "data = datasets.load_wine()\n",
    "# store instances with second and third attibutes as x\n",
    "df = pd.DataFrame(data.data, columns=data.feature_names)\n",
    "df_x = df.iloc[:,1:3]\n",
    "# store labels as y\n",
    "df_y = pd.DataFrame(data.target, columns = [\"Target\"])\n",
    "con = pd.concat([df_x,df_y],axis=1)\n",
    "# get a subset of data for binary clasification (with all instances from class 0 and class 1, not from class 2) \n",
    "concat = con[(con[\"Target\"] == 0)|(con [\"Target\"] == 1)]\n",
    "x = concat.iloc[:,0:2]\n",
    "y = concat.iloc[:,2:3]\n",
    "#split your dataset in train (%70) and test-set (%30)\n",
    "X_train, X_test, y_train, y_test = train_test_split(x, y, test_size=0.30, random_state=0)\n",
    "concat\n",
    "X_train"
   ]
  },
  {
   "cell_type": "code",
   "execution_count": 3,
   "metadata": {
    "colab": {
     "base_uri": "https://localhost:8080/"
    },
    "id": "x1ly2mZ4OOwY",
    "outputId": "52e6bea1-18dc-4e1d-a561-0ab39ee10b2c"
   },
   "outputs": [
    {
     "data": {
      "text/plain": [
       "SVC(C=1.0, break_ties=False, cache_size=200, class_weight=None, coef0=0.0,\n",
       "    decision_function_shape='ovr', degree=3, gamma='scale', kernel='linear',\n",
       "    max_iter=-1, probability=False, random_state=None, shrinking=True,\n",
       "    tol=0.001, verbose=False)"
      ]
     },
     "execution_count": 3,
     "metadata": {
      "tags": []
     },
     "output_type": "execute_result"
    }
   ],
   "source": [
    "warnings.filterwarnings('ignore')\n",
    "from sklearn import svm\n",
    "from sklearn.svm import SVC\n",
    "# classify with SVM Linear Classifier model\n",
    "svm_concat = svm.SVC(kernel = \"linear\")\n",
    "svm_concat.fit(X_train,y_train) \n",
    "pred = svm_concat.predict(X_test)\n",
    "classifier = SVC(kernel='linear')\n",
    "classifier.fit(X_train, y_train)"
   ]
  },
  {
   "cell_type": "code",
   "execution_count": 4,
   "metadata": {
    "colab": {
     "base_uri": "https://localhost:8080/",
     "height": 280
    },
    "id": "gB15dvFROOwY",
    "outputId": "3fff87b5-5336-4fd3-9ea4-3e7e4ad75edd"
   },
   "outputs": [
    {
     "data": {
      "image/png": "[encoded data removed]",
      "text/plain": [
       "<Figure size 432x288 with 1 Axes>"
      ]
     },
     "metadata": {
      "needs_background": "light",
      "tags": []
     },
     "output_type": "display_data"
    }
   ],
   "source": [
    "def plot_svm_decision_boundary(classifier, xmin, xmax):\n",
    "    w = classifier.coef_[0]\n",
    "    b = classifier.intercept_[0]\n",
    "    # get function coefficients from the classifier  \n",
    "    # generate x0 wrt to range of xmin and xmax \n",
    "    x0 = np.linspace(xmin, xmax, 200)\n",
    "    # from wx+b =0, w0x0+w1x1+b=0 -> x1=-((w0/w1)x0 + b/w1)\n",
    "    # compute decision boundary, that is x1\n",
    "    x1 = -w[0]/w[1] * x0 - b/w[1]\n",
    "    # compute margin\n",
    "    margin_d = 1/w[1]\n",
    "    # compute support vectors\n",
    "    h1 = x1 + margin_d\n",
    "    h2 = x1 - margin_d\n",
    "    # plot support vectors\n",
    "    plt.plot(x0, x1, linewidth=4, color='pink')\n",
    "    plt.plot(x0, h2, 'k--')\n",
    "    plt.plot(x0, h1, 'k--')\n",
    "    # plot also decision boundary and margins \n",
    "    plt.xlabel(\"malic_acid\") \n",
    "    plt.ylabel(\"ash\")\n",
    "plt.scatter(x = concat[\"malic_acid\"], y=concat[\"ash\"],c=y.values,s=100,cmap=\"Blues\", edgecolors=\"purple\", marker=\"s\") \n",
    "plot_svm_decision_boundary(svm_concat, X_train.min(), X_train.max())\n",
    "plt.scatter(svm_concat.support_vectors_[:,0], svm_concat.support_vectors_[:,1],linewidth=1,\n",
    "            s=100, facecolors='none')\n",
    "plt.show()\n"
   ]
  },
  {
   "cell_type": "code",
   "execution_count": 5,
   "metadata": {
    "colab": {
     "base_uri": "https://localhost:8080/",
     "height": 280
    },
    "collapsed": true,
    "id": "W9BOmm_8OOwZ",
    "outputId": "d1315877-e1ee-4488-883b-1b389fbb35a8"
   },
   "outputs": [
    {
     "data": {
      "image/png": "[encoded data removed]",
      "text/plain": [
       "<Figure size 432x288 with 1 Axes>"
      ]
     },
     "metadata": {
      "needs_background": "light",
      "tags": []
     },
     "output_type": "display_data"
    }
   ],
   "source": [
    "warnings.filterwarnings('ignore')\n",
    "# generate 3 linear models (ax+b),with random a, b parameters\n",
    "model1_x = con.iloc[:,0:2]\n",
    "model1_y = con.iloc[:,2:3] \n",
    "  \n",
    "X_train_m1, X_test_m1, y_train_m1, y_test_m1 = train_test_split(model1_x, model1_y, test_size=0.30, random_state=0)\n",
    "model1 = svm.SVC(kernel=\"linear\")\n",
    "model1.fit(X_train_m1,y_train_m1)\n",
    "predict_model = model1.predict(X_test_m1)\n",
    "# plot these decision boundaries on your 2d data \n",
    "plt.xlabel(\"malic_acid\")\n",
    "plt.ylabel(\"ash\")\n",
    "plt.scatter(x = model1_x[\"malic_acid\"], y=model1_x[\"ash\"],c=model1_y.values,s=100,cmap=\"Blues\", edgecolors=\"purple\", marker=\"s\") \n",
    "plot_svm_decision_boundary(model1, model1_x.min(), model1_x.max())\n",
    "plt.scatter(model1.support_vectors_[:, 0], model1.support_vectors_[:, 1],linewidth=1,\n",
    "            s=100, facecolors='none')\n",
    "plt.show()"
   ]
  },
  {
   "cell_type": "code",
   "execution_count": 6,
   "metadata": {
    "colab": {
     "base_uri": "https://localhost:8080/",
     "height": 280
    },
    "id": "VfGviqZNOOwZ",
    "outputId": "6e4a32c8-57b7-4db8-c0a4-3299bb79be99"
   },
   "outputs": [
    {
     "data": {
      "image/png": "[encoded data removed]",
      "text/plain": [
       "<Figure size 432x288 with 1 Axes>"
      ]
     },
     "metadata": {
      "needs_background": "light",
      "tags": []
     },
     "output_type": "display_data"
    }
   ],
   "source": [
    "# call plot_svm_decision_boundary function for plotting decision boundary margings and suopprt vectors\n",
    "#plot_svm_decision_boundary()\n",
    "#plot also 2d data point for each class with different colored markers\n",
    "plt.xlabel(\"malic_acid\")\n",
    "plt.ylabel(\"ash\")\n",
    "plt.scatter(x = model1_x[\"malic_acid\"], y=model1_x[\"ash\"],c=model1_y.values,s=100, cmap=\"Blues\", edgecolors=\"purple\", marker=\"s\") \n",
    "plot_svm_decision_boundary(model1, model1_x.min(), model1_x.max())\n",
    "plt.scatter(model1.support_vectors_[:, 0], model1.support_vectors_[:, 1],linewidth=1,\n",
    "            s=100, facecolors='none')\n",
    "plt.show()"
   ]
  },
  {
   "cell_type": "markdown",
   "metadata": {
    "id": "87eO6be0OOwb"
   },
   "source": [
    "Classify with Linear SVM on scaled and  also unscaled data, compare their decision boundaries using your plot_svm_decision_boundary function"
   ]
  },
  {
   "cell_type": "code",
   "execution_count": 7,
   "metadata": {
    "colab": {
     "base_uri": "https://localhost:8080/",
     "height": 575
    },
    "id": "SzJISBGnOOwb",
    "outputId": "c89791c0-5357-4473-a3b6-180b55cb4f66"
   },
   "outputs": [
    {
     "data": {
      "image/png": "[encoded data removed]",
      "text/plain": [
       "<Figure size 432x288 with 1 Axes>"
      ]
     },
     "metadata": {
      "needs_background": "light",
      "tags": []
     },
     "output_type": "display_data"
    },
    {
     "data": {
      "image/png": "[encoded data removed]",
      "text/plain": [
       "<Figure size 432x288 with 1 Axes>"
      ]
     },
     "metadata": {
      "needs_background": "light",
      "tags": []
     },
     "output_type": "display_data"
    }
   ],
   "source": [
    "warnings.filterwarnings('ignore')\n",
    "from sklearn.preprocessing import StandardScaler\n",
    "scaler = StandardScaler()\n",
    "from sklearn.pipeline import make_pipeline\n",
    "# svm classfier on unscaled data\n",
    "# plot data points and decision boundaries\n",
    "plt.title(\"Unscaled\")\n",
    "plt.xlabel(\"malic_acid\")\n",
    "plt.ylabel(\"ash\")\n",
    "plt.scatter(x = model1_x[\"malic_acid\"], y=model1_x[\"ash\"],c=model1_y.values,s=100,cmap=\"Blues\", edgecolors=\"purple\", marker=\"s\") \n",
    "plot_svm_decision_boundary(model1, model1_x.min(), model1_x.max())\n",
    "plt.scatter(model1.support_vectors_[:, 0], model1.support_vectors_[:, 1],linewidth=1,\n",
    "            s=100, facecolors='none')\n",
    "# to-do\n",
    "plt.show()\n",
    "\n",
    "# svm classfier on scaled data\n",
    "scaled = scaler.fit_transform(model1_x.values)\n",
    "scaled = pd.DataFrame(scaled,columns=[\"malic_acid\",\"ash\"])\n",
    "X_train_m1, X_test_m1, y_train_m1, y_test_m1 = train_test_split(scaled, model1_y, test_size=0.30, random_state=0)\n",
    "svm_scaled = svm.SVC(kernel=\"linear\")\n",
    "svm_scaled.fit(X_train_m1,y_train_m1)\n",
    "# plot data points and decision boundaries\n",
    "plt.xlabel(\"malic_acid\")\n",
    "plt.ylabel(\"ash\")\n",
    "plt.title(\"Scaled\")\n",
    "plt.scatter(x = scaled[\"malic_acid\"], y=scaled[\"ash\"],c=model1_y.values,s=100,cmap=\"Blues\", edgecolors=\"purple\", marker=\"s\") \n",
    "plot_svm_decision_boundary(svm_scaled, scaled.min(), scaled.max())\n",
    "plt.scatter(svm_scaled.support_vectors_[:, 0], svm_scaled.support_vectors_[:, 1],linewidth=1,\n",
    "            s=100, facecolors='none')\n",
    "# to-do\n",
    "plt.show()"
   ]
  },
  {
   "cell_type": "code",
   "execution_count": 8,
   "metadata": {
    "colab": {
     "base_uri": "https://localhost:8080/"
    },
    "id": "FjPPui8AZ0rq",
    "outputId": "784a6f4f-236a-4c9f-de4b-852f7489abf0"
   },
   "outputs": [
    {
     "data": {
      "text/plain": [
       "0.6851851851851852"
      ]
     },
     "execution_count": 8,
     "metadata": {
      "tags": []
     },
     "output_type": "execute_result"
    }
   ],
   "source": [
    "from sklearn.metrics import accuracy_score\n",
    "# get a test score using unscaled SVM classifier\n",
    "accuracy_score(y_test_m1,predict_model)"
   ]
  },
  {
   "cell_type": "markdown",
   "metadata": {
    "id": "7xEv7ZfzOOwb"
   },
   "source": [
    "Add 2 outliers, and analyze their effects on SVM classifier by comparing previous decision boundary.\n",
    "Annotate thse outliers on your plots."
   ]
  },
  {
   "cell_type": "code",
   "execution_count": 9,
   "metadata": {
    "colab": {
     "base_uri": "https://localhost:8080/",
     "height": 280
    },
    "collapsed": true,
    "id": "nXeaVFl7OOwc",
    "outputId": "f4b45241-1f6c-4ecf-92bb-c51f595e9fba"
   },
   "outputs": [
    {
     "data": {
      "image/png": "[encoded data removed]",
      "text/plain": [
       "<Figure size 432x288 with 1 Axes>"
      ]
     },
     "metadata": {
      "needs_background": "light",
      "tags": []
     },
     "output_type": "display_data"
    }
   ],
   "source": [
    "warnings.filterwarnings('ignore')\n",
    "# add outliers to your data\n",
    "outliers = con\n",
    "outliers = outliers.append({\"malic_acid\":3.5,\"ash\":4,\"Target\":2},ignore_index=True)\n",
    "outliers = outliers.append({\"malic_acid\":8,\"ash\":3.5,\"Target\":1},ignore_index=True)\n",
    "outliers_x = outliers.iloc[:,0:2]\n",
    "outliers_y = outliers.iloc[:,2:3]\n",
    "\n",
    "# classify with SVM linear classifier\n",
    "outliers_x_train,outliers_x_test,outliers_y_train,outliers_y_test = train_test_split(outliers_x,outliers_y,random_state=0,test_size=0.3)\n",
    "# to-do\n",
    "svm_outliers = svm.SVC(kernel=\"linear\")\n",
    "svm_outliers.fit(outliers_x_train,outliers_y_train)\n",
    "# plot data (show also outliers and decision boundaries)  \n",
    "plt.xlabel(\"malic_acid\")\n",
    "plt.ylabel(\"ash\")\n",
    "plt.scatter(x = outliers[\"malic_acid\"], y=outliers[\"ash\"],c=outliers_y.values,s=100,cmap=\"Blues\", edgecolors=\"purple\", marker=\"s\",facecolors='none') \n",
    "plot_svm_decision_boundary(svm_outliers, outliers_x.min(), outliers_x.max())\n",
    "plt.scatter(svm_outliers.support_vectors_[:, 0], svm_outliers.support_vectors_[:, 1],linewidth=1,\n",
    "            s=100, facecolors='none')\n",
    "# to-do\n",
    "plt.show()"
   ]
  },
  {
   "cell_type": "markdown",
   "metadata": {
    "id": "qrfj2chX2ZZp"
   },
   "source": [
    " #### **Part 2: NonLinear SVM**"
   ]
  },
  {
   "cell_type": "markdown",
   "metadata": {
    "id": "apiJo17hOOwc"
   },
   "source": [
    "Compare Linear and Kernel Multi-class SVMs"
   ]
  },
  {
   "cell_type": "markdown",
   "metadata": {
    "id": "yRBbMneE52cD"
   },
   "source": []
  },
  {
   "cell_type": "code",
   "execution_count": 10,
   "metadata": {
    "colab": {
     "base_uri": "https://localhost:8080/"
    },
    "id": "B5WxgkWWOOwc",
    "outputId": "09bd4591-b407-4054-e8bd-d907e5217118"
   },
   "outputs": [
    {
     "data": {
      "text/plain": [
       "SVC(C=1, break_ties=False, cache_size=200, class_weight=None, coef0=0.0,\n",
       "    decision_function_shape='ovr', degree=3, gamma=1, kernel='sigmoid',\n",
       "    max_iter=-1, probability=False, random_state=None, shrinking=True,\n",
       "    tol=0.001, verbose=False)"
      ]
     },
     "execution_count": 10,
     "metadata": {
      "tags": []
     },
     "output_type": "execute_result"
    }
   ],
   "source": [
    "warnings.filterwarnings('ignore')\n",
    "# get wine data instances for each class with same attributes (1 and 2)\n",
    "concat_att = con[(con[\"Target\"] == 1)|(con[\"Target\"] == 2)] \n",
    "# split your new dataset as training and test set\n",
    "att_x = concat_att.iloc[:,0:2]\n",
    "att_y = concat_att.iloc[:,2:3]\n",
    "# to-do\n",
    "att_x_train,att_x_test,att_y_train,att_y_test = train_test_split(att_x,att_y,test_size=0.3,random_state=0)\n",
    "# define Linear, RBF, Polynomial and Sigmoid) with following parameters: Regularizer=1, polynomail degree= at least 3, gaussian gamma=1\n",
    "svm_linear = svm.SVC(kernel = \"linear\",C=1,gamma=1,degree=3)\n",
    "svm_rbf = svm.SVC(kernel=\"rbf\",C=1, gamma=1,degree=3) \n",
    "svm_polynomial = svm.SVC(kernel = \"poly\",degree= 3,C=1,gamma=1)\n",
    "svm_sigmoid = svm.SVC(kernel=\"sigmoid\", C=1, gamma=1)\n",
    "# for multi-class SVM use one-versus-one approach\n",
    "# to-do\n",
    "svm_linear.fit(att_x_train,att_y_train)\n",
    "svm_polynomial.fit(att_x_train,att_y_train)\n",
    "svm_rbf.fit(att_x_train,att_y_train)\n",
    "svm_sigmoid.fit(att_x_train,att_y_train)\n"
   ]
  },
  {
   "cell_type": "code",
   "execution_count": 11,
   "metadata": {
    "colab": {
     "base_uri": "https://localhost:8080/",
     "height": 661
    },
    "collapsed": true,
    "id": "s8PEK5USfBUd",
    "outputId": "72ab0de8-6ca7-43e9-ed6f-b1f153667c86"
   },
   "outputs": [
    {
     "data": {
      "image/png": "[encoded data removed]",
      "text/plain": [
       "<Figure size 432x288 with 1 Axes>"
      ]
     },
     "metadata": {
      "needs_background": "light",
      "tags": []
     },
     "output_type": "display_data"
    },
    {
     "data": {
      "image/png": "[encoded data removed]",
      "text/plain": [
       "<Figure size 432x288 with 1 Axes>"
      ]
     },
     "metadata": {
      "needs_background": "light",
      "tags": []
     },
     "output_type": "display_data"
    },
    {
     "data": {
      "image/png": "[encoded data removed]",
      "text/plain": [
       "<Figure size 432x288 with 1 Axes>"
      ]
     },
     "metadata": {
      "needs_background": "light",
      "tags": []
     },
     "output_type": "display_data"
    },
    {
     "data": {
      "image/png": "[encoded data removed]",
      "text/plain": [
       "<Figure size 432x288 with 1 Axes>"
      ]
     },
     "metadata": {
      "needs_background": "light",
      "tags": []
     },
     "output_type": "display_data"
    }
   ],
   "source": [
    "# plot each SVM classifiers decision boundaries (use subpplots)\n",
    "def plot_decision_boundary(model, title):\n",
    "  ax = plt.subplot(2, 2, 1)\n",
    "  x_min, x_max = att_x.min() - 1, att_x.max() + 1\n",
    "  y_min, y_max = att_y.min() - 1, att_y.max() + 1\n",
    "  xx, yy = np.meshgrid(np.linspace(x_min, x_max, 200),\n",
    "                         np.linspace(y_min, y_max, 200))\n",
    "  xy = np.vstack([xx.ravel(), yy.ravel()]).T\n",
    "    \n",
    "  P = model.decision_function(xy).reshape(xx.shape)\n",
    "    \n",
    "  ax.contour(xx, yy, P,colors = \"m\",\n",
    "               levels=[-0.5,0,0.5], alpha=0.5,\n",
    "               linestyles=['--', '-', '--'])\n",
    "# Plot also the training points\n",
    "  plt.scatter(x = concat_att[\"malic_acid\"],y = concat_att[\"ash\"], c=att_y.values, cmap=plt.cm.coolwarm)\n",
    "  plt.xlabel('malic_acid')\n",
    "  plt.ylabel('ash')\n",
    "  plt.title(title)\n",
    "  plt.scatter(clf.support_vectors_[:, 0], clf.support_vectors_[:, 1], s=100, lw=1,  facecolors='none',marker=\"s\") \n",
    "# add the titles for each plots\n",
    "titles = ['Linear Kernel',\n",
    "          'RBF Kernel',\n",
    "          'Polynomial Kernel',\n",
    "          \"Sigmoid Kernel\"]\n",
    "# to-do\n",
    "for i,clf in enumerate((svm_linear,svm_rbf,svm_polynomial,svm_sigmoid)):\n",
    "  plot_decision_boundary(clf,titles[i])\n",
    "\n",
    "  plt.show()"
   ]
  },
  {
   "cell_type": "code",
   "execution_count": 12,
   "metadata": {
    "colab": {
     "base_uri": "https://localhost:8080/"
    },
    "collapsed": true,
    "id": "zlhhRwzEOOwd",
    "outputId": "bdb3503f-6546-47d3-b4a7-010b19c62a7c"
   },
   "outputs": [
    {
     "name": "stdout",
     "output_type": "stream",
     "text": [
      "Linear Accuracy  0.75\n",
      "Polynomial Accuracy 0.7777777777777778\n",
      "RBF Accuracy 0.75\n",
      "Sigmoid Accuracy 0.6388888888888888\n"
     ]
    }
   ],
   "source": [
    "#compare prediction results of each classifier based on accuries (print them)\n",
    "linear_prediction = svm_linear.predict(att_x_test)\n",
    "polynomial_prediction = svm_polynomial.predict(att_x_test)\n",
    "rbf_prediction = svm_rbf.predict(att_x_test)\n",
    "sigmoid_prediction = svm_sigmoid.predict(att_x_test)\n",
    "# to-do\n",
    "print(\"Linear Accuracy \", accuracy_score(att_y_test,linear_prediction))\n",
    "print(\"Polynomial Accuracy\", accuracy_score(att_y_test,polynomial_prediction))\n",
    "print(\"RBF Accuracy\", accuracy_score(att_y_test,rbf_prediction))\n",
    "print(\"Sigmoid Accuracy\", accuracy_score(att_y_test,sigmoid_prediction))"
   ]
  },
  {
   "cell_type": "code",
   "execution_count": 13,
   "metadata": {
    "colab": {
     "base_uri": "https://localhost:8080/",
     "height": 1000
    },
    "collapsed": true,
    "id": "6iqlVLPzkV_e",
    "outputId": "8899ec1a-f641-4e4a-e5ea-2c97ce9dd7a3"
   },
   "outputs": [
    {
     "data": {
      "image/png": "[encoded data removed]",
      "text/plain": [
       "<Figure size 432x288 with 2 Axes>"
      ]
     },
     "metadata": {
      "needs_background": "light",
      "tags": []
     },
     "output_type": "display_data"
    },
    {
     "data": {
      "image/png": "[encoded data removed]",
      "text/plain": [
       "<Figure size 432x288 with 2 Axes>"
      ]
     },
     "metadata": {
      "needs_background": "light",
      "tags": []
     },
     "output_type": "display_data"
    },
    {
     "data": {
      "image/png": "[encoded data removed]",
      "text/plain": [
       "<Figure size 432x288 with 2 Axes>"
      ]
     },
     "metadata": {
      "needs_background": "light",
      "tags": []
     },
     "output_type": "display_data"
    },
    {
     "data": {
      "image/png": "[encoded data removed]",
      "text/plain": [
       "<Figure size 432x288 with 2 Axes>"
      ]
     },
     "metadata": {
      "needs_background": "light",
      "tags": []
     },
     "output_type": "display_data"
    }
   ],
   "source": [
    "from sklearn.metrics import confusion_matrix\n",
    "#compare confusion matrices\n",
    "import seaborn as sns\n",
    "linear_confusion = confusion_matrix(att_y_test,linear_prediction)\n",
    "plt.title(\"Linear Kernel Confusion Matrix\")\n",
    "sns.heatmap(linear_confusion, annot=True, cmap=\"Blues\")\n",
    "plt.show()\n",
    "\n",
    "polynomial_confusion = confusion_matrix(att_y_test,polynomial_prediction)\n",
    "plt.title(\"Polynomial Kernel Confusion Matrix\")\n",
    "sns.heatmap(polynomial_confusion, annot=True)\n",
    "plt.show()\n",
    "\n",
    "rbf_confusion = confusion_matrix(att_y_test,rbf_prediction)\n",
    "plt.title(\"RBF Kernel Confusion Matrix\")\n",
    "sns.heatmap(rbf_confusion, annot=True, cmap=\"Reds\")\n",
    "plt.show()\n",
    "\n",
    "sigmoid_confusion = confusion_matrix(att_y_test,sigmoid_prediction)\n",
    "plt.title(\"Sigmoid Confusion Matrix\")\n",
    "sns.heatmap(sigmoid_confusion, annot=True, cmap=\"Greens\")\n",
    "#to-do\n",
    "plt.show()"
   ]
  },
  {
   "cell_type": "markdown",
   "metadata": {
    "id": "F1Y3YguT4KeO"
   },
   "source": [
    "#### **Part 3: MLP**"
   ]
  },
  {
   "cell_type": "markdown",
   "metadata": {
    "id": "kp_Ra7Pc5Syx"
   },
   "source": [
    "Constructing and training a 3 layered neural network using Pytorch library for digit classification (MNIST)"
   ]
  },
  {
   "cell_type": "code",
   "execution_count": 14,
   "metadata": {
    "collapsed": true,
    "id": "DPRYXLzZ5Zae"
   },
   "outputs": [],
   "source": [
    "# required libraries and modules\n",
    "import torch\n",
    "import torch.nn as nn\n",
    "import torchvision.datasets as datasets\n",
    "import torchvision.transforms as transforms\n",
    "from torch.autograd import Variable\n",
    "import torchvision.utils\n",
    "import time"
   ]
  },
  {
   "cell_type": "code",
   "execution_count": 15,
   "metadata": {
    "colab": {
     "base_uri": "https://localhost:8080/"
    },
    "collapsed": true,
    "id": "epSOPsQa5eez",
    "outputId": "dc55d592-c227-4de8-f454-724a1040ef7f"
   },
   "outputs": [
    {
     "data": {
      "text/plain": [
       "device(type='cuda', index=0)"
      ]
     },
     "execution_count": 15,
     "metadata": {
      "tags": []
     },
     "output_type": "execute_result"
    }
   ],
   "source": [
    "# set device\n",
    "device = torch.device('cuda:0' if torch.cuda.is_available() else 'cpu')\n",
    "device"
   ]
  },
  {
   "cell_type": "code",
   "execution_count": 16,
   "metadata": {
    "colab": {
     "base_uri": "https://localhost:8080/",
     "height": 358,
     "referenced_widgets": [
      "97312085368848239b7ea9c4e80a0ff5",
      "7a778d042c4e44578ebf156dc3b33d2b",
      "56d58c1f78724b94bbb7e8a4e0817f23",
      "f689e5b8d66d4a1c8c8c3ef226e0cc1b",
      "2c29fb2affa246f4bae332b07bf38d55",
      "74ffa46cdf114b3ba5f85092cb213208",
      "a6bb2109a7654af58fb98fae9964208d",
      "7a6558e9fa3241d99b7f449c9d287893",
      "c97a41cc2f244c9ca5e391b32ed2f065",
      "495b3ffe1269413897f93fc1dc24721f",
      "968358cf716a4328929857cc08bd6070",
      "7f8c1f9ac06b408485a98098e077d40a",
      "3c9519d1189c45c4a751a67958491371",
      "9e7b9d8617864bcca259c8f95465d1c0",
      "afc49175539e4c38abeeead5b6148ca9",
      "8a8126286c304f8db6cd09bcb3091ff6",
      "f622a97a81264244aaf622e3f1aced31",
      "42b9c80acada4b05a734b7404f7a8ea4",
      "d7d18d3167c9457080adddb69b89bde2",
      "390018aa7e6e4f9495b9a4aa3153e3d0",
      "024aec9040de41309899ee700d9dea77",
      "51a69e28869d4b64bfedc48aac573292",
      "18f7e6608d0548488a42ec6dc4bab702",
      "66bc2cf06bcb4621ac7d1066ba88b93a",
      "593bb9b9c5534227bb0450a62b465cc8",
      "d019c157500e47c093b3e5d2a00fafc9",
      "d9d628bf000549b2b55ffbbf95e783af",
      "7380eb4423194ed18b016a35f7cc6fb3",
      "726069b6af554f7f83f874f4ed16eea3",
      "0afde93d59bc4af08229b2599daa4e23",
      "24acb07170bb4a148ae7fef393efd471",
      "2dc96d44a2b6428b81b2b5706593aeb9"
     ]
    },
    "collapsed": true,
    "id": "KjDBv0166pbP",
    "outputId": "b75c4ec0-0461-4717-85ab-9878700a8b1e"
   },
   "outputs": [
    {
     "name": "stdout",
     "output_type": "stream",
     "text": [
      "Downloading http://yann.lecun.com/exdb/mnist/train-images-idx3-ubyte.gz to MNIST/raw/train-images-idx3-ubyte.gz\n"
     ]
    },
    {
     "data": {
      "application/vnd.jupyter.widget-view+json": {
       "model_id": "97312085368848239b7ea9c4e80a0ff5",
       "version_major": 2,
       "version_minor": 0
      },
      "text/plain": [
       "HBox(children=(FloatProgress(value=1.0, bar_style='info', max=1.0), HTML(value='')))"
      ]
     },
     "metadata": {
      "tags": []
     },
     "output_type": "display_data"
    },
    {
     "name": "stdout",
     "output_type": "stream",
     "text": [
      "Extracting MNIST/raw/train-images-idx3-ubyte.gz to MNIST/raw\n",
      "Downloading http://yann.lecun.com/exdb/mnist/train-labels-idx1-ubyte.gz to MNIST/raw/train-labels-idx1-ubyte.gz\n"
     ]
    },
    {
     "data": {
      "application/vnd.jupyter.widget-view+json": {
       "model_id": "c97a41cc2f244c9ca5e391b32ed2f065",
       "version_major": 2,
       "version_minor": 0
      },
      "text/plain": [
       "HBox(children=(FloatProgress(value=1.0, bar_style='info', max=1.0), HTML(value='')))"
      ]
     },
     "metadata": {
      "tags": []
     },
     "output_type": "display_data"
    },
    {
     "name": "stdout",
     "output_type": "stream",
     "text": [
      "Extracting MNIST/raw/train-labels-idx1-ubyte.gz to MNIST/raw\n",
      "Downloading http://yann.lecun.com/exdb/mnist/t10k-images-idx3-ubyte.gz to MNIST/raw/t10k-images-idx3-ubyte.gz\n"
     ]
    },
    {
     "data": {
      "application/vnd.jupyter.widget-view+json": {
       "model_id": "f622a97a81264244aaf622e3f1aced31",
       "version_major": 2,
       "version_minor": 0
      },
      "text/plain": [
       "HBox(children=(FloatProgress(value=1.0, bar_style='info', max=1.0), HTML(value='')))"
      ]
     },
     "metadata": {
      "tags": []
     },
     "output_type": "display_data"
    },
    {
     "name": "stdout",
     "output_type": "stream",
     "text": [
      "Extracting MNIST/raw/t10k-images-idx3-ubyte.gz to MNIST/raw\n",
      "Downloading http://yann.lecun.com/exdb/mnist/t10k-labels-idx1-ubyte.gz to MNIST/raw/t10k-labels-idx1-ubyte.gz\n",
      "\n",
      "\n"
     ]
    },
    {
     "data": {
      "application/vnd.jupyter.widget-view+json": {
       "model_id": "593bb9b9c5534227bb0450a62b465cc8",
       "version_major": 2,
       "version_minor": 0
      },
      "text/plain": [
       "HBox(children=(FloatProgress(value=1.0, bar_style='info', max=1.0), HTML(value='')))"
      ]
     },
     "metadata": {
      "tags": []
     },
     "output_type": "display_data"
    },
    {
     "name": "stdout",
     "output_type": "stream",
     "text": [
      "Extracting MNIST/raw/t10k-labels-idx1-ubyte.gz to MNIST/raw\n",
      "Processing...\n",
      "Done!\n"
     ]
    }
   ],
   "source": [
    "warnings.filterwarnings('ignore')\n",
    "# download MNIST train and test sets using pytorch datasets module \n",
    "train_data = torchvision.datasets.MNIST('', train=True, download=True,\n",
    "                       transform=transforms.Compose([\n",
    "                           transforms.ToTensor()\n",
    "                       ]))\n",
    "\n",
    "test_data = torchvision.datasets.MNIST('', train=False, download=True,\n",
    "                       transform=transforms.Compose([\n",
    "                           transforms.ToTensor()\n",
    "                       ]))"
   ]
  },
  {
   "cell_type": "code",
   "execution_count": 17,
   "metadata": {
    "colab": {
     "base_uri": "https://localhost:8080/"
    },
    "id": "crKTQkP9UXUP",
    "outputId": "15507380-d8f4-463a-a4b1-f979058f86fb"
   },
   "outputs": [
    {
     "data": {
      "text/plain": [
       "Dataset MNIST\n",
       "    Number of datapoints: 60000\n",
       "    Root location: \n",
       "    Split: Train\n",
       "    StandardTransform\n",
       "Transform: Compose(\n",
       "               ToTensor()\n",
       "           )"
      ]
     },
     "execution_count": 17,
     "metadata": {
      "tags": []
     },
     "output_type": "execute_result"
    }
   ],
   "source": [
    "# lets look train_data structure\n",
    "train_data"
   ]
  },
  {
   "cell_type": "code",
   "execution_count": 18,
   "metadata": {
    "colab": {
     "base_uri": "https://localhost:8080/",
     "height": 280
    },
    "collapsed": true,
    "id": "5MWQRfyVrVYy",
    "outputId": "52631171-5e1b-46fd-d2bc-1302c932ccde"
   },
   "outputs": [
    {
     "data": {
      "image/png": "[encoded data removed]",
      "text/plain": [
       "<Figure size 216x216 with 1 Axes>"
      ]
     },
     "metadata": {
      "needs_background": "light",
      "tags": []
     },
     "output_type": "display_data"
    },
    {
     "name": "stdout",
     "output_type": "stream",
     "text": [
      "\n",
      "\n",
      "Image CxHxW : (1, 28, 28)\n"
     ]
    }
   ],
   "source": [
    "# define a display function for sample images using matplotlib\n",
    "def display_sampledata(img):\n",
    "    img = np.asarray(img)\n",
    "    # convert to numpy array ((C)hannelx(H)eightx(W)idth -> HxWxC )\n",
    "    img_shape = (np.squeeze(img,axis=0))\n",
    "    # plot image using matplotlib\n",
    "    plt.figure(figsize = (3,3))\n",
    "    plt.title(\"Data Image:\") \n",
    "    plt.imshow(img_shape, cmap = plt.cm.binary)\n",
    "    # TO-DO\n",
    "    plt.show()\n",
    "    print(\"Image CxHxW :\",(img.shape)) \n",
    " \n",
    "display_sampledata(train_data[0][0]) "
   ]
  },
  {
   "cell_type": "code",
   "execution_count": 19,
   "metadata": {
    "collapsed": true,
    "id": "p028hbAFjgRd"
   },
   "outputs": [],
   "source": [
    "# define a function for displaying the number of parameters\n",
    "def get_netparams(net):\n",
    "  params = list(net.parameters())\n",
    "  x = 0\n",
    "  for i in range(len(params)):\n",
    "    for j in range(len(params[i].size())-1):\n",
    "      x = x + params[i].size()[j]*params[i].size()[j+1] + params[i].size()[j+1] \n",
    "    print(x,\" parameters \")   "
   ]
  },
  {
   "cell_type": "code",
   "execution_count": 20,
   "metadata": {
    "collapsed": true,
    "id": "prD7NxbMj6UY"
   },
   "outputs": [],
   "source": [
    "# define a function that returns minibatch error in range [0,1]\n",
    "def get_error(predicted_y, y):\n",
    "    # to-do \n",
    "    err = 0.0\n",
    "    for i in range(len(predicted_y)):\n",
    "      if predicted_y[i]!= y[i]:\n",
    "        err = err+1\n",
    "    err = err/len(predicted_y)\n",
    "    return err\n"
   ]
  },
  {
   "cell_type": "code",
   "execution_count": 21,
   "metadata": {
    "collapsed": true,
    "id": "cHs4gfWI65d5"
   },
   "outputs": [],
   "source": [
    "# define train and test data loaders\n",
    "batch_size = 100\n",
    "train_loader = torch.utils.data.DataLoader(train_data,batch_size=batch_size, shuffle=True, num_workers = 2)\n",
    "test_loader = torch.utils.data.DataLoader(test_data,batch_size=batch_size, shuffle=True, num_workers =2)"
   ]
  },
  {
   "cell_type": "code",
   "execution_count": 22,
   "metadata": {
    "colab": {
     "base_uri": "https://localhost:8080/",
     "height": 1000
    },
    "collapsed": true,
    "id": "rZ5qVNoHq6s0",
    "outputId": "b6bd972a-5548-42ba-c3fb-f34238f88452"
   },
   "outputs": [
    {
     "data": {
      "image/png": "[encoded data removed]",
      "text/plain": [
       "<Figure size 216x216 with 1 Axes>"
      ]
     },
     "metadata": {
      "needs_background": "light",
      "tags": []
     },
     "output_type": "display_data"
    },
    {
     "name": "stdout",
     "output_type": "stream",
     "text": [
      "Image CxHxW : (1, 28, 28)\n"
     ]
    },
    {
     "data": {
      "image/png": "[encoded data removed]",
      "text/plain": [
       "<Figure size 216x216 with 1 Axes>"
      ]
     },
     "metadata": {
      "needs_background": "light",
      "tags": []
     },
     "output_type": "display_data"
    },
    {
     "name": "stdout",
     "output_type": "stream",
     "text": [
      "Image CxHxW : (1, 28, 28)\n"
     ]
    },
    {
     "data": {
      "image/png": "[encoded data removed]",
      "text/plain": [
       "<Figure size 216x216 with 1 Axes>"
      ]
     },
     "metadata": {
      "needs_background": "light",
      "tags": []
     },
     "output_type": "display_data"
    },
    {
     "name": "stdout",
     "output_type": "stream",
     "text": [
      "Image CxHxW : (1, 28, 28)\n"
     ]
    },
    {
     "data": {
      "image/png": "[encoded data removed]",
      "text/plain": [
       "<Figure size 216x216 with 1 Axes>"
      ]
     },
     "metadata": {
      "needs_background": "light",
      "tags": []
     },
     "output_type": "display_data"
    },
    {
     "name": "stdout",
     "output_type": "stream",
     "text": [
      "Image CxHxW : (1, 28, 28)\n"
     ]
    },
    {
     "data": {
      "image/png": "[encoded data removed]",
      "text/plain": [
       "<Figure size 216x216 with 1 Axes>"
      ]
     },
     "metadata": {
      "needs_background": "light",
      "tags": []
     },
     "output_type": "display_data"
    },
    {
     "name": "stdout",
     "output_type": "stream",
     "text": [
      "Image CxHxW : (1, 28, 28)\n"
     ]
    },
    {
     "data": {
      "image/png": "[encoded data removed]",
      "text/plain": [
       "<Figure size 216x216 with 1 Axes>"
      ]
     },
     "metadata": {
      "needs_background": "light",
      "tags": []
     },
     "output_type": "display_data"
    },
    {
     "name": "stdout",
     "output_type": "stream",
     "text": [
      "Image CxHxW : (1, 28, 28)\n"
     ]
    },
    {
     "data": {
      "image/png": "[encoded data removed]",
      "text/plain": [
       "<Figure size 216x216 with 1 Axes>"
      ]
     },
     "metadata": {
      "needs_background": "light",
      "tags": []
     },
     "output_type": "display_data"
    },
    {
     "name": "stdout",
     "output_type": "stream",
     "text": [
      "Image CxHxW : (1, 28, 28)\n"
     ]
    },
    {
     "data": {
      "image/png": "[encoded data removed]",
      "text/plain": [
       "<Figure size 216x216 with 1 Axes>"
      ]
     },
     "metadata": {
      "needs_background": "light",
      "tags": []
     },
     "output_type": "display_data"
    },
    {
     "name": "stdout",
     "output_type": "stream",
     "text": [
      "Image CxHxW : (1, 28, 28)\n"
     ]
    },
    {
     "data": {
      "image/png": "[encoded data removed]",
      "text/plain": [
       "<Figure size 216x216 with 1 Axes>"
      ]
     },
     "metadata": {
      "needs_background": "light",
      "tags": []
     },
     "output_type": "display_data"
    },
    {
     "name": "stdout",
     "output_type": "stream",
     "text": [
      "Image CxHxW : (1, 28, 28)\n"
     ]
    },
    {
     "data": {
      "image/png": "[encoded data removed]",
      "text/plain": [
       "<Figure size 216x216 with 1 Axes>"
      ]
     },
     "metadata": {
      "needs_background": "light",
      "tags": []
     },
     "output_type": "display_data"
    },
    {
     "name": "stdout",
     "output_type": "stream",
     "text": [
      "Image CxHxW : (1, 28, 28)\n"
     ]
    },
    {
     "data": {
      "image/png": "[encoded data removed]",
      "text/plain": [
       "<Figure size 216x216 with 1 Axes>"
      ]
     },
     "metadata": {
      "needs_background": "light",
      "tags": []
     },
     "output_type": "display_data"
    },
    {
     "name": "stdout",
     "output_type": "stream",
     "text": [
      "Image CxHxW : (1, 28, 28)\n"
     ]
    },
    {
     "data": {
      "image/png": "[encoded data removed]",
      "text/plain": [
       "<Figure size 216x216 with 1 Axes>"
      ]
     },
     "metadata": {
      "needs_background": "light",
      "tags": []
     },
     "output_type": "display_data"
    },
    {
     "name": "stdout",
     "output_type": "stream",
     "text": [
      "Image CxHxW : (1, 28, 28)\n"
     ]
    },
    {
     "data": {
      "image/png": "[encoded data removed]",
      "text/plain": [
       "<Figure size 216x216 with 1 Axes>"
      ]
     },
     "metadata": {
      "needs_background": "light",
      "tags": []
     },
     "output_type": "display_data"
    },
    {
     "name": "stdout",
     "output_type": "stream",
     "text": [
      "Image CxHxW : (1, 28, 28)\n"
     ]
    },
    {
     "data": {
      "image/png": "[encoded data removed]",
      "text/plain": [
       "<Figure size 216x216 with 1 Axes>"
      ]
     },
     "metadata": {
      "needs_background": "light",
      "tags": []
     },
     "output_type": "display_data"
    },
    {
     "name": "stdout",
     "output_type": "stream",
     "text": [
      "Image CxHxW : (1, 28, 28)\n"
     ]
    },
    {
     "data": {
      "image/png": "[encoded data removed]",
      "text/plain": [
       "<Figure size 216x216 with 1 Axes>"
      ]
     },
     "metadata": {
      "needs_background": "light",
      "tags": []
     },
     "output_type": "display_data"
    },
    {
     "name": "stdout",
     "output_type": "stream",
     "text": [
      "Image CxHxW : (1, 28, 28)\n"
     ]
    },
    {
     "data": {
      "image/png": "[encoded data removed]",
      "text/plain": [
       "<Figure size 216x216 with 1 Axes>"
      ]
     },
     "metadata": {
      "needs_background": "light",
      "tags": []
     },
     "output_type": "display_data"
    },
    {
     "name": "stdout",
     "output_type": "stream",
     "text": [
      "Image CxHxW : (1, 28, 28)\n"
     ]
    }
   ],
   "source": [
    "from random import randint \n",
    "# get some random 16 images\n",
    "# to-do\n",
    "for i in range(16):\n",
    "  k = randint(0,100)\n",
    "# show using your display_sampledata function\n",
    "  display_sampledata(train_data[k][0])\n",
    "# to-do\n"
   ]
  },
  {
   "cell_type": "code",
   "execution_count": 23,
   "metadata": {
    "collapsed": true,
    "id": "36zK7A519FeM"
   },
   "outputs": [],
   "source": [
    "# Design a 3 layered  MLP network\n",
    "class basicMLP(nn.Module):\n",
    "  def __init__(self, input_size, num_hidden_neurons, num_classes):\n",
    "    super(basicMLP,self).__init__()\n",
    "    self.fc1 = nn.Linear(input_size,num_hidden_neurons[0]).to(device)\n",
    "    self.fc2 = nn.Linear(num_hidden_neurons[0],num_hidden_neurons[1])\n",
    "    self.fc3 = nn.Linear(num_hidden_neurons[1],num_classes).to(device)\n",
    "    self.relu = nn.ReLU()\n",
    "    # define layers\n",
    "    # to-do\n",
    "  \n",
    "  def forward(self,input):    \n",
    "    # define forward pass of your NN \n",
    "    x = nn.functional.relu(self.fc1(input))\n",
    "    x = nn.functional.relu(self.fc2(x))\n",
    "    x = self.fc3(x)\n",
    "    # TO-DO\n",
    "    return x"
   ]
  },
  {
   "cell_type": "code",
   "execution_count": 24,
   "metadata": {
    "colab": {
     "base_uri": "https://localhost:8080/"
    },
    "id": "DjRvtrT897RD",
    "outputId": "bef6153a-85e0-4ea5-fb98-5172bfa1f19e"
   },
   "outputs": [
    {
     "name": "stdout",
     "output_type": "stream",
     "text": [
      "basicMLP(\n",
      "  (fc1): Linear(in_features=784, out_features=200, bias=True)\n",
      "  (fc2): Linear(in_features=200, out_features=300, bias=True)\n",
      "  (fc3): Linear(in_features=300, out_features=10, bias=True)\n",
      "  (relu): ReLU()\n",
      ")\n",
      "157584  parameters \n",
      "157584  parameters \n",
      "217784  parameters \n",
      "217784  parameters \n",
      "221084  parameters \n",
      "221084  parameters \n"
     ]
    }
   ],
   "source": [
    "# create a 3 layered Neural Network instance for given parameters\n",
    "# input size = image size * image size (get from your data shape)\n",
    "input_size = 28*28\n",
    "# number of hidden neurons: 200 and 300\n",
    "hidden_nuerons = [200,300]\n",
    "# number of classes: get from your data \n",
    "num_classes = 10\n",
    "net = basicMLP(input_size,hidden_nuerons, num_classes)\n",
    "net.to(device)\n",
    "print(net)\n",
    "get_netparams(net)"
   ]
  },
  {
   "cell_type": "code",
   "execution_count": 25,
   "metadata": {
    "collapsed": true,
    "id": "Rsl2kuF7-Yxf"
   },
   "outputs": [],
   "source": [
    "import math\n",
    "# define cross entropy as loss function\n",
    "def loss_function(predict,y_test):\n",
    "  loss = nn.CrossEntropyLoss()\n",
    "  x = loss(predict,y_test)\n",
    "  return x\n",
    "# to-do\n",
    "# setup the SGD optimizer with learning rate=1.e-2  (also try Adam optimizer later)\n",
    "import torch.optim as optim\n",
    "optimizer = optim.SGD(net.parameters(),lr = 1e-2,momentum = 0.9)\n",
    "# to-do"
   ]
  },
  {
   "cell_type": "code",
   "execution_count": 26,
   "metadata": {
    "colab": {
     "base_uri": "https://localhost:8080/"
    },
    "id": "a-3e_Grj-5Hy",
    "outputId": "c71814c1-c94a-473a-8caf-10dadbc78327"
   },
   "outputs": [
    {
     "name": "stdout",
     "output_type": "stream",
     "text": [
      "Epoch [1/7], Step [20/3000], Loss: 2.2734 Error: 0.6400\n",
      "Epoch [1/7], Step [40/3000], Loss: 2.1937 Error: 0.5200\n",
      "Epoch [1/7], Step [60/3000], Loss: 1.9019 Error: 0.3200\n",
      "Epoch [1/7], Step [80/3000], Loss: 1.4106 Error: 0.2300\n",
      "Epoch [1/7], Step [100/3000], Loss: 1.0622 Error: 0.2800\n",
      "Epoch [1/7], Step [120/3000], Loss: 0.5809 Error: 0.1200\n",
      "Epoch [1/7], Step [140/3000], Loss: 0.6100 Error: 0.1600\n",
      "Epoch [1/7], Step [160/3000], Loss: 0.6085 Error: 0.1900\n",
      "Epoch [1/7], Step [180/3000], Loss: 0.5572 Error: 0.1600\n",
      "Epoch [1/7], Step [200/3000], Loss: 0.4008 Error: 0.1100\n",
      "Epoch [1/7], Step [220/3000], Loss: 0.5326 Error: 0.1600\n",
      "Epoch [1/7], Step [240/3000], Loss: 0.4571 Error: 0.1500\n",
      "Epoch [1/7], Step [260/3000], Loss: 0.4506 Error: 0.1100\n",
      "Epoch [1/7], Step [280/3000], Loss: 0.2941 Error: 0.0700\n",
      "Epoch [1/7], Step [300/3000], Loss: 0.4592 Error: 0.1000\n",
      "Epoch [1/7], Step [320/3000], Loss: 0.4730 Error: 0.1400\n",
      "Epoch [1/7], Step [340/3000], Loss: 0.4011 Error: 0.1100\n",
      "Epoch [1/7], Step [360/3000], Loss: 0.3370 Error: 0.0800\n",
      "Epoch [1/7], Step [380/3000], Loss: 0.2837 Error: 0.1000\n",
      "Epoch [1/7], Step [400/3000], Loss: 0.3615 Error: 0.1000\n",
      "Epoch [1/7], Step [420/3000], Loss: 0.2557 Error: 0.0800\n",
      "Epoch [1/7], Step [440/3000], Loss: 0.3205 Error: 0.1100\n",
      "Epoch [1/7], Step [460/3000], Loss: 0.2702 Error: 0.0900\n",
      "Epoch [1/7], Step [480/3000], Loss: 0.2959 Error: 0.0700\n",
      "Epoch [1/7], Step [500/3000], Loss: 0.2815 Error: 0.0900\n",
      "Epoch [1/7], Step [520/3000], Loss: 0.2583 Error: 0.0800\n",
      "Epoch [1/7], Step [540/3000], Loss: 0.1952 Error: 0.0700\n",
      "Epoch [1/7], Step [560/3000], Loss: 0.1577 Error: 0.0400\n",
      "Epoch [1/7], Step [580/3000], Loss: 0.2233 Error: 0.0700\n",
      "Epoch [1/7], Step [600/3000], Loss: 0.3808 Error: 0.0800\n",
      "Epoch [2/7], Step [20/3000], Loss: 0.1718 Error: 0.0300\n",
      "Epoch [2/7], Step [40/3000], Loss: 0.3006 Error: 0.0700\n",
      "Epoch [2/7], Step [60/3000], Loss: 0.2331 Error: 0.0700\n",
      "Epoch [2/7], Step [80/3000], Loss: 0.1820 Error: 0.0700\n",
      "Epoch [2/7], Step [100/3000], Loss: 0.3177 Error: 0.0900\n",
      "Epoch [2/7], Step [120/3000], Loss: 0.2484 Error: 0.0700\n",
      "Epoch [2/7], Step [140/3000], Loss: 0.2348 Error: 0.0800\n",
      "Epoch [2/7], Step [160/3000], Loss: 0.2155 Error: 0.0600\n",
      "Epoch [2/7], Step [180/3000], Loss: 0.1211 Error: 0.0200\n",
      "Epoch [2/7], Step [200/3000], Loss: 0.3794 Error: 0.1200\n",
      "Epoch [2/7], Step [220/3000], Loss: 0.2668 Error: 0.0700\n",
      "Epoch [2/7], Step [240/3000], Loss: 0.2699 Error: 0.0900\n",
      "Epoch [2/7], Step [260/3000], Loss: 0.1955 Error: 0.0600\n",
      "Epoch [2/7], Step [280/3000], Loss: 0.2733 Error: 0.0800\n",
      "Epoch [2/7], Step [300/3000], Loss: 0.2997 Error: 0.1200\n",
      "Epoch [2/7], Step [320/3000], Loss: 0.2314 Error: 0.0500\n",
      "Epoch [2/7], Step [340/3000], Loss: 0.2325 Error: 0.1000\n",
      "Epoch [2/7], Step [360/3000], Loss: 0.3042 Error: 0.0900\n",
      "Epoch [2/7], Step [380/3000], Loss: 0.2336 Error: 0.0600\n",
      "Epoch [2/7], Step [400/3000], Loss: 0.2756 Error: 0.0900\n",
      "Epoch [2/7], Step [420/3000], Loss: 0.2556 Error: 0.0800\n",
      "Epoch [2/7], Step [440/3000], Loss: 0.2588 Error: 0.1100\n",
      "Epoch [2/7], Step [460/3000], Loss: 0.1226 Error: 0.0200\n",
      "Epoch [2/7], Step [480/3000], Loss: 0.1483 Error: 0.0500\n",
      "Epoch [2/7], Step [500/3000], Loss: 0.2060 Error: 0.0700\n",
      "Epoch [2/7], Step [520/3000], Loss: 0.1549 Error: 0.0600\n",
      "Epoch [2/7], Step [540/3000], Loss: 0.1217 Error: 0.0500\n",
      "Epoch [2/7], Step [560/3000], Loss: 0.3088 Error: 0.1100\n",
      "Epoch [2/7], Step [580/3000], Loss: 0.2425 Error: 0.0800\n",
      "Epoch [2/7], Step [600/3000], Loss: 0.1080 Error: 0.0300\n",
      "Epoch [3/7], Step [20/3000], Loss: 0.1488 Error: 0.0300\n",
      "Epoch [3/7], Step [40/3000], Loss: 0.1880 Error: 0.0500\n",
      "Epoch [3/7], Step [60/3000], Loss: 0.2611 Error: 0.0700\n",
      "Epoch [3/7], Step [80/3000], Loss: 0.2776 Error: 0.0600\n",
      "Epoch [3/7], Step [100/3000], Loss: 0.2333 Error: 0.0300\n",
      "Epoch [3/7], Step [120/3000], Loss: 0.2101 Error: 0.0900\n",
      "Epoch [3/7], Step [140/3000], Loss: 0.2201 Error: 0.0700\n",
      "Epoch [3/7], Step [160/3000], Loss: 0.2458 Error: 0.0700\n",
      "Epoch [3/7], Step [180/3000], Loss: 0.1007 Error: 0.0200\n",
      "Epoch [3/7], Step [200/3000], Loss: 0.1278 Error: 0.0200\n",
      "Epoch [3/7], Step [220/3000], Loss: 0.1936 Error: 0.0700\n",
      "Epoch [3/7], Step [240/3000], Loss: 0.1326 Error: 0.0300\n",
      "Epoch [3/7], Step [260/3000], Loss: 0.1537 Error: 0.0500\n",
      "Epoch [3/7], Step [280/3000], Loss: 0.0784 Error: 0.0200\n",
      "Epoch [3/7], Step [300/3000], Loss: 0.2286 Error: 0.0600\n",
      "Epoch [3/7], Step [320/3000], Loss: 0.1356 Error: 0.0300\n",
      "Epoch [3/7], Step [340/3000], Loss: 0.1926 Error: 0.0500\n",
      "Epoch [3/7], Step [360/3000], Loss: 0.1209 Error: 0.0400\n",
      "Epoch [3/7], Step [380/3000], Loss: 0.0545 Error: 0.0100\n",
      "Epoch [3/7], Step [400/3000], Loss: 0.1621 Error: 0.0400\n",
      "Epoch [3/7], Step [420/3000], Loss: 0.1085 Error: 0.0200\n",
      "Epoch [3/7], Step [440/3000], Loss: 0.2379 Error: 0.0700\n",
      "Epoch [3/7], Step [460/3000], Loss: 0.1836 Error: 0.0500\n",
      "Epoch [3/7], Step [480/3000], Loss: 0.1163 Error: 0.0300\n",
      "Epoch [3/7], Step [500/3000], Loss: 0.2401 Error: 0.0500\n",
      "Epoch [3/7], Step [520/3000], Loss: 0.1920 Error: 0.0800\n",
      "Epoch [3/7], Step [540/3000], Loss: 0.1053 Error: 0.0300\n",
      "Epoch [3/7], Step [560/3000], Loss: 0.1216 Error: 0.0300\n",
      "Epoch [3/7], Step [580/3000], Loss: 0.3075 Error: 0.0800\n",
      "Epoch [3/7], Step [600/3000], Loss: 0.1271 Error: 0.0300\n",
      "Epoch [4/7], Step [20/3000], Loss: 0.1631 Error: 0.0200\n",
      "Epoch [4/7], Step [40/3000], Loss: 0.1456 Error: 0.0400\n",
      "Epoch [4/7], Step [60/3000], Loss: 0.1786 Error: 0.0600\n",
      "Epoch [4/7], Step [80/3000], Loss: 0.1747 Error: 0.0400\n",
      "Epoch [4/7], Step [100/3000], Loss: 0.2649 Error: 0.0400\n",
      "Epoch [4/7], Step [120/3000], Loss: 0.2281 Error: 0.0500\n",
      "Epoch [4/7], Step [140/3000], Loss: 0.1108 Error: 0.0400\n",
      "Epoch [4/7], Step [160/3000], Loss: 0.0933 Error: 0.0300\n",
      "Epoch [4/7], Step [180/3000], Loss: 0.1658 Error: 0.0500\n",
      "Epoch [4/7], Step [200/3000], Loss: 0.1023 Error: 0.0200\n",
      "Epoch [4/7], Step [220/3000], Loss: 0.0759 Error: 0.0200\n",
      "Epoch [4/7], Step [240/3000], Loss: 0.0599 Error: 0.0100\n",
      "Epoch [4/7], Step [260/3000], Loss: 0.1137 Error: 0.0400\n",
      "Epoch [4/7], Step [280/3000], Loss: 0.1954 Error: 0.0700\n",
      "Epoch [4/7], Step [300/3000], Loss: 0.0631 Error: 0.0200\n",
      "Epoch [4/7], Step [320/3000], Loss: 0.0743 Error: 0.0100\n",
      "Epoch [4/7], Step [340/3000], Loss: 0.1513 Error: 0.0400\n",
      "Epoch [4/7], Step [360/3000], Loss: 0.1026 Error: 0.0300\n",
      "Epoch [4/7], Step [380/3000], Loss: 0.0682 Error: 0.0100\n",
      "Epoch [4/7], Step [400/3000], Loss: 0.0738 Error: 0.0200\n",
      "Epoch [4/7], Step [420/3000], Loss: 0.1346 Error: 0.0200\n",
      "Epoch [4/7], Step [440/3000], Loss: 0.1578 Error: 0.0600\n",
      "Epoch [4/7], Step [460/3000], Loss: 0.0798 Error: 0.0200\n",
      "Epoch [4/7], Step [480/3000], Loss: 0.1384 Error: 0.0200\n",
      "Epoch [4/7], Step [500/3000], Loss: 0.0645 Error: 0.0100\n",
      "Epoch [4/7], Step [520/3000], Loss: 0.0774 Error: 0.0300\n",
      "Epoch [4/7], Step [540/3000], Loss: 0.0488 Error: 0.0000\n",
      "Epoch [4/7], Step [560/3000], Loss: 0.0949 Error: 0.0300\n",
      "Epoch [4/7], Step [580/3000], Loss: 0.1067 Error: 0.0300\n",
      "Epoch [4/7], Step [600/3000], Loss: 0.0705 Error: 0.0300\n",
      "Epoch [5/7], Step [20/3000], Loss: 0.0835 Error: 0.0300\n",
      "Epoch [5/7], Step [40/3000], Loss: 0.1707 Error: 0.0300\n",
      "Epoch [5/7], Step [60/3000], Loss: 0.0945 Error: 0.0200\n",
      "Epoch [5/7], Step [80/3000], Loss: 0.0435 Error: 0.0100\n",
      "Epoch [5/7], Step [100/3000], Loss: 0.1854 Error: 0.0400\n",
      "Epoch [5/7], Step [120/3000], Loss: 0.0832 Error: 0.0300\n",
      "Epoch [5/7], Step [140/3000], Loss: 0.0682 Error: 0.0300\n",
      "Epoch [5/7], Step [160/3000], Loss: 0.0798 Error: 0.0300\n",
      "Epoch [5/7], Step [180/3000], Loss: 0.1055 Error: 0.0300\n",
      "Epoch [5/7], Step [200/3000], Loss: 0.1105 Error: 0.0300\n",
      "Epoch [5/7], Step [220/3000], Loss: 0.0758 Error: 0.0300\n",
      "Epoch [5/7], Step [240/3000], Loss: 0.0220 Error: 0.0000\n",
      "Epoch [5/7], Step [260/3000], Loss: 0.1905 Error: 0.0400\n",
      "Epoch [5/7], Step [280/3000], Loss: 0.0476 Error: 0.0100\n",
      "Epoch [5/7], Step [300/3000], Loss: 0.1244 Error: 0.0400\n",
      "Epoch [5/7], Step [320/3000], Loss: 0.1280 Error: 0.0600\n",
      "Epoch [5/7], Step [340/3000], Loss: 0.0912 Error: 0.0300\n",
      "Epoch [5/7], Step [360/3000], Loss: 0.0949 Error: 0.0400\n",
      "Epoch [5/7], Step [380/3000], Loss: 0.0736 Error: 0.0300\n",
      "Epoch [5/7], Step [400/3000], Loss: 0.1670 Error: 0.0300\n",
      "Epoch [5/7], Step [420/3000], Loss: 0.1378 Error: 0.0400\n",
      "Epoch [5/7], Step [440/3000], Loss: 0.0830 Error: 0.0200\n",
      "Epoch [5/7], Step [460/3000], Loss: 0.0629 Error: 0.0200\n",
      "Epoch [5/7], Step [480/3000], Loss: 0.1413 Error: 0.0600\n",
      "Epoch [5/7], Step [500/3000], Loss: 0.2158 Error: 0.0400\n",
      "Epoch [5/7], Step [520/3000], Loss: 0.1431 Error: 0.0400\n",
      "Epoch [5/7], Step [540/3000], Loss: 0.0517 Error: 0.0100\n",
      "Epoch [5/7], Step [560/3000], Loss: 0.0396 Error: 0.0000\n",
      "Epoch [5/7], Step [580/3000], Loss: 0.0820 Error: 0.0200\n",
      "Epoch [5/7], Step [600/3000], Loss: 0.0770 Error: 0.0100\n",
      "Epoch [6/7], Step [20/3000], Loss: 0.0640 Error: 0.0200\n",
      "Epoch [6/7], Step [40/3000], Loss: 0.1557 Error: 0.0500\n",
      "Epoch [6/7], Step [60/3000], Loss: 0.0769 Error: 0.0300\n",
      "Epoch [6/7], Step [80/3000], Loss: 0.0296 Error: 0.0100\n",
      "Epoch [6/7], Step [100/3000], Loss: 0.0752 Error: 0.0200\n",
      "Epoch [6/7], Step [120/3000], Loss: 0.0797 Error: 0.0300\n",
      "Epoch [6/7], Step [140/3000], Loss: 0.0599 Error: 0.0200\n",
      "Epoch [6/7], Step [160/3000], Loss: 0.1470 Error: 0.0600\n",
      "Epoch [6/7], Step [180/3000], Loss: 0.0938 Error: 0.0400\n",
      "Epoch [6/7], Step [200/3000], Loss: 0.0567 Error: 0.0200\n",
      "Epoch [6/7], Step [220/3000], Loss: 0.2045 Error: 0.0500\n",
      "Epoch [6/7], Step [240/3000], Loss: 0.0238 Error: 0.0000\n",
      "Epoch [6/7], Step [260/3000], Loss: 0.1842 Error: 0.0600\n",
      "Epoch [6/7], Step [280/3000], Loss: 0.1337 Error: 0.0300\n",
      "Epoch [6/7], Step [300/3000], Loss: 0.1008 Error: 0.0500\n",
      "Epoch [6/7], Step [320/3000], Loss: 0.1147 Error: 0.0600\n",
      "Epoch [6/7], Step [340/3000], Loss: 0.1436 Error: 0.0200\n",
      "Epoch [6/7], Step [360/3000], Loss: 0.0509 Error: 0.0100\n",
      "Epoch [6/7], Step [380/3000], Loss: 0.1287 Error: 0.0500\n",
      "Epoch [6/7], Step [400/3000], Loss: 0.1584 Error: 0.0600\n",
      "Epoch [6/7], Step [420/3000], Loss: 0.0812 Error: 0.0200\n",
      "Epoch [6/7], Step [440/3000], Loss: 0.1128 Error: 0.0600\n",
      "Epoch [6/7], Step [460/3000], Loss: 0.0849 Error: 0.0100\n",
      "Epoch [6/7], Step [480/3000], Loss: 0.1779 Error: 0.0400\n",
      "Epoch [6/7], Step [500/3000], Loss: 0.0943 Error: 0.0400\n",
      "Epoch [6/7], Step [520/3000], Loss: 0.1015 Error: 0.0300\n",
      "Epoch [6/7], Step [540/3000], Loss: 0.0369 Error: 0.0100\n",
      "Epoch [6/7], Step [560/3000], Loss: 0.1225 Error: 0.0500\n",
      "Epoch [6/7], Step [580/3000], Loss: 0.0613 Error: 0.0200\n",
      "Epoch [6/7], Step [600/3000], Loss: 0.1786 Error: 0.0500\n",
      "Epoch [7/7], Step [20/3000], Loss: 0.0683 Error: 0.0200\n",
      "Epoch [7/7], Step [40/3000], Loss: 0.0209 Error: 0.0000\n",
      "Epoch [7/7], Step [60/3000], Loss: 0.1080 Error: 0.0200\n",
      "Epoch [7/7], Step [80/3000], Loss: 0.0595 Error: 0.0000\n",
      "Epoch [7/7], Step [100/3000], Loss: 0.0730 Error: 0.0300\n",
      "Epoch [7/7], Step [120/3000], Loss: 0.1148 Error: 0.0300\n",
      "Epoch [7/7], Step [140/3000], Loss: 0.1879 Error: 0.0300\n",
      "Epoch [7/7], Step [160/3000], Loss: 0.0712 Error: 0.0300\n",
      "Epoch [7/7], Step [180/3000], Loss: 0.1671 Error: 0.0400\n",
      "Epoch [7/7], Step [200/3000], Loss: 0.0366 Error: 0.0100\n",
      "Epoch [7/7], Step [220/3000], Loss: 0.0553 Error: 0.0200\n",
      "Epoch [7/7], Step [240/3000], Loss: 0.0958 Error: 0.0300\n",
      "Epoch [7/7], Step [260/3000], Loss: 0.0415 Error: 0.0100\n",
      "Epoch [7/7], Step [280/3000], Loss: 0.0647 Error: 0.0300\n",
      "Epoch [7/7], Step [300/3000], Loss: 0.0289 Error: 0.0100\n",
      "Epoch [7/7], Step [320/3000], Loss: 0.1325 Error: 0.0600\n",
      "Epoch [7/7], Step [340/3000], Loss: 0.1713 Error: 0.0700\n",
      "Epoch [7/7], Step [360/3000], Loss: 0.0390 Error: 0.0100\n",
      "Epoch [7/7], Step [380/3000], Loss: 0.0825 Error: 0.0200\n",
      "Epoch [7/7], Step [400/3000], Loss: 0.0607 Error: 0.0100\n",
      "Epoch [7/7], Step [420/3000], Loss: 0.2072 Error: 0.0600\n",
      "Epoch [7/7], Step [440/3000], Loss: 0.0412 Error: 0.0100\n",
      "Epoch [7/7], Step [460/3000], Loss: 0.0926 Error: 0.0200\n",
      "Epoch [7/7], Step [480/3000], Loss: 0.0510 Error: 0.0200\n",
      "Epoch [7/7], Step [500/3000], Loss: 0.0750 Error: 0.0300\n",
      "Epoch [7/7], Step [520/3000], Loss: 0.0218 Error: 0.0000\n",
      "Epoch [7/7], Step [540/3000], Loss: 0.0383 Error: 0.0300\n",
      "Epoch [7/7], Step [560/3000], Loss: 0.0644 Error: 0.0300\n",
      "Epoch [7/7], Step [580/3000], Loss: 0.0872 Error: 0.0200\n",
      "Epoch [7/7], Step [600/3000], Loss: 0.0325 Error: 0.0000\n",
      "Elapsed time:  57.474220991134644\n"
     ]
    }
   ],
   "source": [
    "# Train your model over 5 epochs (you can also try longer training)\n",
    "n_epochs = 7\n",
    "\n",
    "#  define lists/variables for tracking of the loss, error and the number of batches\n",
    "train_loss = []\n",
    "train_error = []\n",
    "train_accuracy = []\n",
    "train_counter = []\n",
    "\n",
    "iter = 0\n",
    "start = time.time()\n",
    "\n",
    "for epoch in range(n_epochs):\n",
    "  \n",
    "  for i ,(images,labels) in enumerate(train_loader):\n",
    "    iter += 1\n",
    "    # get data and target as minibatch (also assign to device)\n",
    "    data, target = images.to(device), labels.to(device)\n",
    "    # reset the gradient\n",
    "    optimizer.zero_grad()\n",
    "    # a forward pass on your network\n",
    "    output = net.forward(data.view(-1,784))\n",
    "    # compute the loss \n",
    "    loss = loss_function(output,target)\n",
    "    # a backward pass, back propagation\n",
    "    loss.backward()\n",
    "    # update the network parameters\n",
    "    optimizer.step()\n",
    "    # get the minibatch error using your get_error function\n",
    "    _,predicted = torch.max(output,1)\n",
    "    error = get_error(predicted,target)\n",
    "    # keep loss, error for each iteration\n",
    "    train_loss.append(loss.item())\n",
    "    train_error.append(error)\n",
    "    train_accuracy.append(1-error)\n",
    "    train_counter.append(iter)\n",
    "    batch_size = 20\n",
    "    if (i+1) % 20 == 0:\n",
    "      print('Epoch [%d/%d], Step [%d/%d], Loss: %.4f Error: %.4f'%(epoch+1, n_epochs, i+1, len(train_data)//batch_size, loss.item(), error))\n",
    "    if (i+1) % 1000 == 0:\n",
    "      torch.save(net, \"MLPtrain.pth\")\n",
    "    # save your model\n",
    "\n",
    "elapsed_time = time.time() - start\n",
    "print(\"Elapsed time: \",elapsed_time)"
   ]
  },
  {
   "cell_type": "code",
   "execution_count": 27,
   "metadata": {
    "colab": {
     "base_uri": "https://localhost:8080/",
     "height": 573
    },
    "collapsed": true,
    "id": "0RPFgMqW4g-P",
    "outputId": "5686640b-ba30-467f-a9fb-93eb35071afb"
   },
   "outputs": [
    {
     "data": {
      "image/png": "[encoded data removed]",
      "text/plain": [
       "<Figure size 432x288 with 1 Axes>"
      ]
     },
     "metadata": {
      "needs_background": "light",
      "tags": []
     },
     "output_type": "display_data"
    },
    {
     "data": {
      "image/png": "[encoded data removed]",
      "text/plain": [
       "<Figure size 432x288 with 1 Axes>"
      ]
     },
     "metadata": {
      "needs_background": "light",
      "tags": []
     },
     "output_type": "display_data"
    }
   ],
   "source": [
    "#display training loss versus iterations plot\n",
    "plt.title(\"training loss versus iterations\")\n",
    "plt.xlabel(\"iteration\")\n",
    "plt.ylabel(\"training loss\")\n",
    "plt.plot(train_loss,label = \"training loss\", color='m')\n",
    "plt.legend(frameon=False)\n",
    "# to-do\n",
    "plt.show()\n",
    "# display training accuracy versus iterations plot\n",
    "plt.title(\"training accuracy versus iterations\")\n",
    "plt.xlabel(\"iteration\")\n",
    "plt.ylabel(\"training accuracy\")\n",
    "plt.plot(train_accuracy,label = \"training accuracy\", color='c')\n",
    "plt.legend(frameon=False)\n",
    "# to-do\n",
    "plt.show()"
   ]
  },
  {
   "cell_type": "code",
   "execution_count": 28,
   "metadata": {
    "colab": {
     "base_uri": "https://localhost:8080/"
    },
    "id": "nFfYJU02_ARm",
    "outputId": "af1c8407-7aa6-4a0c-bb1c-53011ebf76ae"
   },
   "outputs": [
    {
     "name": "stdout",
     "output_type": "stream",
     "text": [
      "The error on test set:  0.027699999999999992\n"
     ]
    }
   ],
   "source": [
    "#evaluate your NN model on test data\n",
    "# variables for total test error\n",
    "pred_correct = 0\n",
    "pred_total = 0\n",
    "pred_test = []\n",
    "test_errors = []\n",
    "test_losses = []\n",
    "pred_wrong = []\n",
    "test_error=0\n",
    "\n",
    "with torch.no_grad():\n",
    "  for images,labels in test_loader:\n",
    "    # get test data and target \n",
    "    test_data, y_test = images.to(device), labels.to(device)\n",
    "    # forward pass\n",
    "    output = net.forward(test_data.view(-1,784))\n",
    "    # get test loss\n",
    "    test_loss = loss_function(output,y_test)\n",
    "\n",
    "    _,y_predicted = torch.max(output,1)\n",
    "    idxs = (y_predicted != y_test)\n",
    "    # compute error\n",
    "    test_error = get_error(y_predicted,y_test) \n",
    "    test_errors.append(test_error)\n",
    "    # compute test error and print it\n",
    "  print(\"The error on test set: \", sum(test_errors)/len(y_predicted))"
   ]
  },
  {
   "cell_type": "code",
   "execution_count": 29,
   "metadata": {
    "colab": {
     "base_uri": "https://localhost:8080/",
     "height": 1000
    },
    "id": "yaOfWq1S3Ffl",
    "outputId": "abcfe2bc-6f34-42dd-c79b-09ff37901c35"
   },
   "outputs": [
    {
     "name": "stdout",
     "output_type": "stream",
     "text": [
      "Prediction:  1\n"
     ]
    },
    {
     "data": {
      "image/png": "[encoded data removed]",
      "text/plain": [
       "<Figure size 216x216 with 1 Axes>"
      ]
     },
     "metadata": {
      "needs_background": "light",
      "tags": []
     },
     "output_type": "display_data"
    },
    {
     "name": "stdout",
     "output_type": "stream",
     "text": [
      "Image CxHxW : (1, 28, 28)\n",
      "Data Label:  9\n",
      "\n",
      "\n",
      "Prediction:  1\n"
     ]
    },
    {
     "data": {
      "image/png": "[encoded data removed]",
      "text/plain": [
       "<Figure size 216x216 with 1 Axes>"
      ]
     },
     "metadata": {
      "needs_background": "light",
      "tags": []
     },
     "output_type": "display_data"
    },
    {
     "name": "stdout",
     "output_type": "stream",
     "text": [
      "Image CxHxW : (1, 28, 28)\n",
      "Data Label:  7\n",
      "\n",
      "\n",
      "Prediction:  9\n"
     ]
    },
    {
     "data": {
      "image/png": "[encoded data removed]",
      "text/plain": [
       "<Figure size 216x216 with 1 Axes>"
      ]
     },
     "metadata": {
      "needs_background": "light",
      "tags": []
     },
     "output_type": "display_data"
    },
    {
     "name": "stdout",
     "output_type": "stream",
     "text": [
      "Image CxHxW : (1, 28, 28)\n",
      "Data Label:  4\n",
      "\n",
      "\n",
      "Prediction:  0\n"
     ]
    },
    {
     "data": {
      "image/png": "[encoded data removed]",
      "text/plain": [
       "<Figure size 216x216 with 1 Axes>"
      ]
     },
     "metadata": {
      "needs_background": "light",
      "tags": []
     },
     "output_type": "display_data"
    },
    {
     "name": "stdout",
     "output_type": "stream",
     "text": [
      "Image CxHxW : (1, 28, 28)\n",
      "Data Label:  2\n",
      "\n",
      "\n",
      "Prediction:  6\n"
     ]
    },
    {
     "data": {
      "image/png": "[encoded data removed]",
      "text/plain": [
       "<Figure size 216x216 with 1 Axes>"
      ]
     },
     "metadata": {
      "needs_background": "light",
      "tags": []
     },
     "output_type": "display_data"
    },
    {
     "name": "stdout",
     "output_type": "stream",
     "text": [
      "Image CxHxW : (1, 28, 28)\n",
      "Data Label:  1\n",
      "\n",
      "\n",
      "Prediction:  6\n"
     ]
    },
    {
     "data": {
      "image/png": "[encoded data removed]",
      "text/plain": [
       "<Figure size 216x216 with 1 Axes>"
      ]
     },
     "metadata": {
      "needs_background": "light",
      "tags": []
     },
     "output_type": "display_data"
    },
    {
     "name": "stdout",
     "output_type": "stream",
     "text": [
      "Image CxHxW : (1, 28, 28)\n",
      "Data Label:  8\n",
      "\n",
      "\n"
     ]
    }
   ],
   "source": [
    "# display 8 incorrect classified test samples with predicted labels using your display_sampledata function \n",
    "# to-do\n",
    "for i in range(len(idxs)):\n",
    "  if idxs[i]:\n",
    "    k = y_predicted[i]\n",
    "    print(\"Prediction: \",k.item())\n",
    "    display_sampledata(test_data[i].cpu())\n",
    "    print(\"Data Label: \", y_test[i].item())\n",
    "    print(\"\\n\")"
   ]
  }
 ],
 "metadata": {
  "accelerator": "GPU",
  "colab": {
   "collapsed_sections": [],
   "name": "161180026_hw4_CENG489_20Fall.ipynb",
   "provenance": [],
   "toc_visible": true
  },
  "kernelspec": {
   "display_name": "Python 3",
   "language": "python",
   "name": "python3"
  },
  "language_info": {
   "codemirror_mode": {
    "name": "ipython",
    "version": 3
   },
   "file_extension": ".py",
   "mimetype": "text/x-python",
   "name": "python",
   "nbconvert_exporter": "python",
   "pygments_lexer": "ipython3",
   "version": "3.9.2"
  },
  "widgets": {
   "application/vnd.jupyter.widget-state+json": {
    "024aec9040de41309899ee700d9dea77": {
     "model_module": "@jupyter-widgets/controls",
     "model_name": "ProgressStyleModel",
     "state": {
      "_model_module": "@jupyter-widgets/controls",
      "_model_module_version": "1.5.0",
      "_model_name": "ProgressStyleModel",
      "_view_count": null,
      "_view_module": "@jupyter-widgets/base",
      "_view_module_version": "1.2.0",
      "_view_name": "StyleView",
      "bar_color": null,
      "description_width": "initial"
     }
    },
    "0afde93d59bc4af08229b2599daa4e23": {
     "model_module": "@jupyter-widgets/base",
     "model_name": "LayoutModel",
     "state": {
      "_model_module": "@jupyter-widgets/base",
      "_model_module_version": "1.2.0",
      "_model_name": "LayoutModel",
      "_view_count": null,
      "_view_module": "@jupyter-widgets/base",
      "_view_module_version": "1.2.0",
      "_view_name": "LayoutView",
      "align_content": null,
      "align_items": null,
      "align_self": null,
      "border": null,
      "bottom": null,
      "display": null,
      "flex": null,
      "flex_flow": null,
      "grid_area": null,
      "grid_auto_columns": null,
      "grid_auto_flow": null,
      "grid_auto_rows": null,
      "grid_column": null,
      "grid_gap": null,
      "grid_row": null,
      "grid_template_areas": null,
      "grid_template_columns": null,
      "grid_template_rows": null,
      "height": null,
      "justify_content": null,
      "justify_items": null,
      "left": null,
      "margin": null,
      "max_height": null,
      "max_width": null,
      "min_height": null,
      "min_width": null,
      "object_fit": null,
      "object_position": null,
      "order": null,
      "overflow": null,
      "overflow_x": null,
      "overflow_y": null,
      "padding": null,
      "right": null,
      "top": null,
      "visibility": null,
      "width": null
     }
    },
    "18f7e6608d0548488a42ec6dc4bab702": {
     "model_module": "@jupyter-widgets/controls",
     "model_name": "DescriptionStyleModel",
     "state": {
      "_model_module": "@jupyter-widgets/controls",
      "_model_module_version": "1.5.0",
      "_model_name": "DescriptionStyleModel",
      "_view_count": null,
      "_view_module": "@jupyter-widgets/base",
      "_view_module_version": "1.2.0",
      "_view_name": "StyleView",
      "description_width": ""
     }
    },
    "24acb07170bb4a148ae7fef393efd471": {
     "model_module": "@jupyter-widgets/controls",
     "model_name": "DescriptionStyleModel",
     "state": {
      "_model_module": "@jupyter-widgets/controls",
      "_model_module_version": "1.5.0",
      "_model_name": "DescriptionStyleModel",
      "_view_count": null,
      "_view_module": "@jupyter-widgets/base",
      "_view_module_version": "1.2.0",
      "_view_name": "StyleView",
      "description_width": ""
     }
    },
    "2c29fb2affa246f4bae332b07bf38d55": {
     "model_module": "@jupyter-widgets/controls",
     "model_name": "ProgressStyleModel",
     "state": {
      "_model_module": "@jupyter-widgets/controls",
      "_model_module_version": "1.5.0",
      "_model_name": "ProgressStyleModel",
      "_view_count": null,
      "_view_module": "@jupyter-widgets/base",
      "_view_module_version": "1.2.0",
      "_view_name": "StyleView",
      "bar_color": null,
      "description_width": "initial"
     }
    },
    "2dc96d44a2b6428b81b2b5706593aeb9": {
     "model_module": "@jupyter-widgets/base",
     "model_name": "LayoutModel",
     "state": {
      "_model_module": "@jupyter-widgets/base",
      "_model_module_version": "1.2.0",
      "_model_name": "LayoutModel",
      "_view_count": null,
      "_view_module": "@jupyter-widgets/base",
      "_view_module_version": "1.2.0",
      "_view_name": "LayoutView",
      "align_content": null,
      "align_items": null,
      "align_self": null,
      "border": null,
      "bottom": null,
      "display": null,
      "flex": null,
      "flex_flow": null,
      "grid_area": null,
      "grid_auto_columns": null,
      "grid_auto_flow": null,
      "grid_auto_rows": null,
      "grid_column": null,
      "grid_gap": null,
      "grid_row": null,
      "grid_template_areas": null,
      "grid_template_columns": null,
      "grid_template_rows": null,
      "height": null,
      "justify_content": null,
      "justify_items": null,
      "left": null,
      "margin": null,
      "max_height": null,
      "max_width": null,
      "min_height": null,
      "min_width": null,
      "object_fit": null,
      "object_position": null,
      "order": null,
      "overflow": null,
      "overflow_x": null,
      "overflow_y": null,
      "padding": null,
      "right": null,
      "top": null,
      "visibility": null,
      "width": null
     }
    },
    "390018aa7e6e4f9495b9a4aa3153e3d0": {
     "model_module": "@jupyter-widgets/controls",
     "model_name": "HTMLModel",
     "state": {
      "_dom_classes": [],
      "_model_module": "@jupyter-widgets/controls",
      "_model_module_version": "1.5.0",
      "_model_name": "HTMLModel",
      "_view_count": null,
      "_view_module": "@jupyter-widgets/controls",
      "_view_module_version": "1.5.0",
      "_view_name": "HTMLView",
      "description": "",
      "description_tooltip": null,
      "layout": "IPY_MODEL_66bc2cf06bcb4621ac7d1066ba88b93a",
      "placeholder": "​",
      "style": "IPY_MODEL_18f7e6608d0548488a42ec6dc4bab702",
      "value": " 1654784/? [00:00&lt;00:00, 2323468.41it/s]"
     }
    },
    "3c9519d1189c45c4a751a67958491371": {
     "model_module": "@jupyter-widgets/controls",
     "model_name": "ProgressStyleModel",
     "state": {
      "_model_module": "@jupyter-widgets/controls",
      "_model_module_version": "1.5.0",
      "_model_name": "ProgressStyleModel",
      "_view_count": null,
      "_view_module": "@jupyter-widgets/base",
      "_view_module_version": "1.2.0",
      "_view_name": "StyleView",
      "bar_color": null,
      "description_width": "initial"
     }
    },
    "42b9c80acada4b05a734b7404f7a8ea4": {
     "model_module": "@jupyter-widgets/base",
     "model_name": "LayoutModel",
     "state": {
      "_model_module": "@jupyter-widgets/base",
      "_model_module_version": "1.2.0",
      "_model_name": "LayoutModel",
      "_view_count": null,
      "_view_module": "@jupyter-widgets/base",
      "_view_module_version": "1.2.0",
      "_view_name": "LayoutView",
      "align_content": null,
      "align_items": null,
      "align_self": null,
      "border": null,
      "bottom": null,
      "display": null,
      "flex": null,
      "flex_flow": null,
      "grid_area": null,
      "grid_auto_columns": null,
      "grid_auto_flow": null,
      "grid_auto_rows": null,
      "grid_column": null,
      "grid_gap": null,
      "grid_row": null,
      "grid_template_areas": null,
      "grid_template_columns": null,
      "grid_template_rows": null,
      "height": null,
      "justify_content": null,
      "justify_items": null,
      "left": null,
      "margin": null,
      "max_height": null,
      "max_width": null,
      "min_height": null,
      "min_width": null,
      "object_fit": null,
      "object_position": null,
      "order": null,
      "overflow": null,
      "overflow_x": null,
      "overflow_y": null,
      "padding": null,
      "right": null,
      "top": null,
      "visibility": null,
      "width": null
     }
    },
    "495b3ffe1269413897f93fc1dc24721f": {
     "model_module": "@jupyter-widgets/base",
     "model_name": "LayoutModel",
     "state": {
      "_model_module": "@jupyter-widgets/base",
      "_model_module_version": "1.2.0",
      "_model_name": "LayoutModel",
      "_view_count": null,
      "_view_module": "@jupyter-widgets/base",
      "_view_module_version": "1.2.0",
      "_view_name": "LayoutView",
      "align_content": null,
      "align_items": null,
      "align_self": null,
      "border": null,
      "bottom": null,
      "display": null,
      "flex": null,
      "flex_flow": null,
      "grid_area": null,
      "grid_auto_columns": null,
      "grid_auto_flow": null,
      "grid_auto_rows": null,
      "grid_column": null,
      "grid_gap": null,
      "grid_row": null,
      "grid_template_areas": null,
      "grid_template_columns": null,
      "grid_template_rows": null,
      "height": null,
      "justify_content": null,
      "justify_items": null,
      "left": null,
      "margin": null,
      "max_height": null,
      "max_width": null,
      "min_height": null,
      "min_width": null,
      "object_fit": null,
      "object_position": null,
      "order": null,
      "overflow": null,
      "overflow_x": null,
      "overflow_y": null,
      "padding": null,
      "right": null,
      "top": null,
      "visibility": null,
      "width": null
     }
    },
    "51a69e28869d4b64bfedc48aac573292": {
     "model_module": "@jupyter-widgets/base",
     "model_name": "LayoutModel",
     "state": {
      "_model_module": "@jupyter-widgets/base",
      "_model_module_version": "1.2.0",
      "_model_name": "LayoutModel",
      "_view_count": null,
      "_view_module": "@jupyter-widgets/base",
      "_view_module_version": "1.2.0",
      "_view_name": "LayoutView",
      "align_content": null,
      "align_items": null,
      "align_self": null,
      "border": null,
      "bottom": null,
      "display": null,
      "flex": null,
      "flex_flow": null,
      "grid_area": null,
      "grid_auto_columns": null,
      "grid_auto_flow": null,
      "grid_auto_rows": null,
      "grid_column": null,
      "grid_gap": null,
      "grid_row": null,
      "grid_template_areas": null,
      "grid_template_columns": null,
      "grid_template_rows": null,
      "height": null,
      "justify_content": null,
      "justify_items": null,
      "left": null,
      "margin": null,
      "max_height": null,
      "max_width": null,
      "min_height": null,
      "min_width": null,
      "object_fit": null,
      "object_position": null,
      "order": null,
      "overflow": null,
      "overflow_x": null,
      "overflow_y": null,
      "padding": null,
      "right": null,
      "top": null,
      "visibility": null,
      "width": null
     }
    },
    "56d58c1f78724b94bbb7e8a4e0817f23": {
     "model_module": "@jupyter-widgets/controls",
     "model_name": "FloatProgressModel",
     "state": {
      "_dom_classes": [],
      "_model_module": "@jupyter-widgets/controls",
      "_model_module_version": "1.5.0",
      "_model_name": "FloatProgressModel",
      "_view_count": null,
      "_view_module": "@jupyter-widgets/controls",
      "_view_module_version": "1.5.0",
      "_view_name": "ProgressView",
      "bar_style": "success",
      "description": "",
      "description_tooltip": null,
      "layout": "IPY_MODEL_74ffa46cdf114b3ba5f85092cb213208",
      "max": 1,
      "min": 0,
      "orientation": "horizontal",
      "style": "IPY_MODEL_2c29fb2affa246f4bae332b07bf38d55",
      "value": 1
     }
    },
    "593bb9b9c5534227bb0450a62b465cc8": {
     "model_module": "@jupyter-widgets/controls",
     "model_name": "HBoxModel",
     "state": {
      "_dom_classes": [],
      "_model_module": "@jupyter-widgets/controls",
      "_model_module_version": "1.5.0",
      "_model_name": "HBoxModel",
      "_view_count": null,
      "_view_module": "@jupyter-widgets/controls",
      "_view_module_version": "1.5.0",
      "_view_name": "HBoxView",
      "box_style": "",
      "children": [
       "IPY_MODEL_d9d628bf000549b2b55ffbbf95e783af",
       "IPY_MODEL_7380eb4423194ed18b016a35f7cc6fb3"
      ],
      "layout": "IPY_MODEL_d019c157500e47c093b3e5d2a00fafc9"
     }
    },
    "66bc2cf06bcb4621ac7d1066ba88b93a": {
     "model_module": "@jupyter-widgets/base",
     "model_name": "LayoutModel",
     "state": {
      "_model_module": "@jupyter-widgets/base",
      "_model_module_version": "1.2.0",
      "_model_name": "LayoutModel",
      "_view_count": null,
      "_view_module": "@jupyter-widgets/base",
      "_view_module_version": "1.2.0",
      "_view_name": "LayoutView",
      "align_content": null,
      "align_items": null,
      "align_self": null,
      "border": null,
      "bottom": null,
      "display": null,
      "flex": null,
      "flex_flow": null,
      "grid_area": null,
      "grid_auto_columns": null,
      "grid_auto_flow": null,
      "grid_auto_rows": null,
      "grid_column": null,
      "grid_gap": null,
      "grid_row": null,
      "grid_template_areas": null,
      "grid_template_columns": null,
      "grid_template_rows": null,
      "height": null,
      "justify_content": null,
      "justify_items": null,
      "left": null,
      "margin": null,
      "max_height": null,
      "max_width": null,
      "min_height": null,
      "min_width": null,
      "object_fit": null,
      "object_position": null,
      "order": null,
      "overflow": null,
      "overflow_x": null,
      "overflow_y": null,
      "padding": null,
      "right": null,
      "top": null,
      "visibility": null,
      "width": null
     }
    },
    "726069b6af554f7f83f874f4ed16eea3": {
     "model_module": "@jupyter-widgets/controls",
     "model_name": "ProgressStyleModel",
     "state": {
      "_model_module": "@jupyter-widgets/controls",
      "_model_module_version": "1.5.0",
      "_model_name": "ProgressStyleModel",
      "_view_count": null,
      "_view_module": "@jupyter-widgets/base",
      "_view_module_version": "1.2.0",
      "_view_name": "StyleView",
      "bar_color": null,
      "description_width": "initial"
     }
    },
    "7380eb4423194ed18b016a35f7cc6fb3": {
     "model_module": "@jupyter-widgets/controls",
     "model_name": "HTMLModel",
     "state": {
      "_dom_classes": [],
      "_model_module": "@jupyter-widgets/controls",
      "_model_module_version": "1.5.0",
      "_model_name": "HTMLModel",
      "_view_count": null,
      "_view_module": "@jupyter-widgets/controls",
      "_view_module_version": "1.5.0",
      "_view_name": "HTMLView",
      "description": "",
      "description_tooltip": null,
      "layout": "IPY_MODEL_2dc96d44a2b6428b81b2b5706593aeb9",
      "placeholder": "​",
      "style": "IPY_MODEL_24acb07170bb4a148ae7fef393efd471",
      "value": " 8192/? [00:00&lt;00:00, 14709.13it/s]"
     }
    },
    "74ffa46cdf114b3ba5f85092cb213208": {
     "model_module": "@jupyter-widgets/base",
     "model_name": "LayoutModel",
     "state": {
      "_model_module": "@jupyter-widgets/base",
      "_model_module_version": "1.2.0",
      "_model_name": "LayoutModel",
      "_view_count": null,
      "_view_module": "@jupyter-widgets/base",
      "_view_module_version": "1.2.0",
      "_view_name": "LayoutView",
      "align_content": null,
      "align_items": null,
      "align_self": null,
      "border": null,
      "bottom": null,
      "display": null,
      "flex": null,
      "flex_flow": null,
      "grid_area": null,
      "grid_auto_columns": null,
      "grid_auto_flow": null,
      "grid_auto_rows": null,
      "grid_column": null,
      "grid_gap": null,
      "grid_row": null,
      "grid_template_areas": null,
      "grid_template_columns": null,
      "grid_template_rows": null,
      "height": null,
      "justify_content": null,
      "justify_items": null,
      "left": null,
      "margin": null,
      "max_height": null,
      "max_width": null,
      "min_height": null,
      "min_width": null,
      "object_fit": null,
      "object_position": null,
      "order": null,
      "overflow": null,
      "overflow_x": null,
      "overflow_y": null,
      "padding": null,
      "right": null,
      "top": null,
      "visibility": null,
      "width": null
     }
    },
    "7a6558e9fa3241d99b7f449c9d287893": {
     "model_module": "@jupyter-widgets/base",
     "model_name": "LayoutModel",
     "state": {
      "_model_module": "@jupyter-widgets/base",
      "_model_module_version": "1.2.0",
      "_model_name": "LayoutModel",
      "_view_count": null,
      "_view_module": "@jupyter-widgets/base",
      "_view_module_version": "1.2.0",
      "_view_name": "LayoutView",
      "align_content": null,
      "align_items": null,
      "align_self": null,
      "border": null,
      "bottom": null,
      "display": null,
      "flex": null,
      "flex_flow": null,
      "grid_area": null,
      "grid_auto_columns": null,
      "grid_auto_flow": null,
      "grid_auto_rows": null,
      "grid_column": null,
      "grid_gap": null,
      "grid_row": null,
      "grid_template_areas": null,
      "grid_template_columns": null,
      "grid_template_rows": null,
      "height": null,
      "justify_content": null,
      "justify_items": null,
      "left": null,
      "margin": null,
      "max_height": null,
      "max_width": null,
      "min_height": null,
      "min_width": null,
      "object_fit": null,
      "object_position": null,
      "order": null,
      "overflow": null,
      "overflow_x": null,
      "overflow_y": null,
      "padding": null,
      "right": null,
      "top": null,
      "visibility": null,
      "width": null
     }
    },
    "7a778d042c4e44578ebf156dc3b33d2b": {
     "model_module": "@jupyter-widgets/base",
     "model_name": "LayoutModel",
     "state": {
      "_model_module": "@jupyter-widgets/base",
      "_model_module_version": "1.2.0",
      "_model_name": "LayoutModel",
      "_view_count": null,
      "_view_module": "@jupyter-widgets/base",
      "_view_module_version": "1.2.0",
      "_view_name": "LayoutView",
      "align_content": null,
      "align_items": null,
      "align_self": null,
      "border": null,
      "bottom": null,
      "display": null,
      "flex": null,
      "flex_flow": null,
      "grid_area": null,
      "grid_auto_columns": null,
      "grid_auto_flow": null,
      "grid_auto_rows": null,
      "grid_column": null,
      "grid_gap": null,
      "grid_row": null,
      "grid_template_areas": null,
      "grid_template_columns": null,
      "grid_template_rows": null,
      "height": null,
      "justify_content": null,
      "justify_items": null,
      "left": null,
      "margin": null,
      "max_height": null,
      "max_width": null,
      "min_height": null,
      "min_width": null,
      "object_fit": null,
      "object_position": null,
      "order": null,
      "overflow": null,
      "overflow_x": null,
      "overflow_y": null,
      "padding": null,
      "right": null,
      "top": null,
      "visibility": null,
      "width": null
     }
    },
    "7f8c1f9ac06b408485a98098e077d40a": {
     "model_module": "@jupyter-widgets/controls",
     "model_name": "HTMLModel",
     "state": {
      "_dom_classes": [],
      "_model_module": "@jupyter-widgets/controls",
      "_model_module_version": "1.5.0",
      "_model_name": "HTMLModel",
      "_view_count": null,
      "_view_module": "@jupyter-widgets/controls",
      "_view_module_version": "1.5.0",
      "_view_name": "HTMLView",
      "description": "",
      "description_tooltip": null,
      "layout": "IPY_MODEL_8a8126286c304f8db6cd09bcb3091ff6",
      "placeholder": "​",
      "style": "IPY_MODEL_afc49175539e4c38abeeead5b6148ca9",
      "value": " 32768/? [00:00&lt;00:00, 33436.97it/s]"
     }
    },
    "8a8126286c304f8db6cd09bcb3091ff6": {
     "model_module": "@jupyter-widgets/base",
     "model_name": "LayoutModel",
     "state": {
      "_model_module": "@jupyter-widgets/base",
      "_model_module_version": "1.2.0",
      "_model_name": "LayoutModel",
      "_view_count": null,
      "_view_module": "@jupyter-widgets/base",
      "_view_module_version": "1.2.0",
      "_view_name": "LayoutView",
      "align_content": null,
      "align_items": null,
      "align_self": null,
      "border": null,
      "bottom": null,
      "display": null,
      "flex": null,
      "flex_flow": null,
      "grid_area": null,
      "grid_auto_columns": null,
      "grid_auto_flow": null,
      "grid_auto_rows": null,
      "grid_column": null,
      "grid_gap": null,
      "grid_row": null,
      "grid_template_areas": null,
      "grid_template_columns": null,
      "grid_template_rows": null,
      "height": null,
      "justify_content": null,
      "justify_items": null,
      "left": null,
      "margin": null,
      "max_height": null,
      "max_width": null,
      "min_height": null,
      "min_width": null,
      "object_fit": null,
      "object_position": null,
      "order": null,
      "overflow": null,
      "overflow_x": null,
      "overflow_y": null,
      "padding": null,
      "right": null,
      "top": null,
      "visibility": null,
      "width": null
     }
    },
    "968358cf716a4328929857cc08bd6070": {
     "model_module": "@jupyter-widgets/controls",
     "model_name": "FloatProgressModel",
     "state": {
      "_dom_classes": [],
      "_model_module": "@jupyter-widgets/controls",
      "_model_module_version": "1.5.0",
      "_model_name": "FloatProgressModel",
      "_view_count": null,
      "_view_module": "@jupyter-widgets/controls",
      "_view_module_version": "1.5.0",
      "_view_name": "ProgressView",
      "bar_style": "success",
      "description": "",
      "description_tooltip": null,
      "layout": "IPY_MODEL_9e7b9d8617864bcca259c8f95465d1c0",
      "max": 1,
      "min": 0,
      "orientation": "horizontal",
      "style": "IPY_MODEL_3c9519d1189c45c4a751a67958491371",
      "value": 1
     }
    },
    "97312085368848239b7ea9c4e80a0ff5": {
     "model_module": "@jupyter-widgets/controls",
     "model_name": "HBoxModel",
     "state": {
      "_dom_classes": [],
      "_model_module": "@jupyter-widgets/controls",
      "_model_module_version": "1.5.0",
      "_model_name": "HBoxModel",
      "_view_count": null,
      "_view_module": "@jupyter-widgets/controls",
      "_view_module_version": "1.5.0",
      "_view_name": "HBoxView",
      "box_style": "",
      "children": [
       "IPY_MODEL_56d58c1f78724b94bbb7e8a4e0817f23",
       "IPY_MODEL_f689e5b8d66d4a1c8c8c3ef226e0cc1b"
      ],
      "layout": "IPY_MODEL_7a778d042c4e44578ebf156dc3b33d2b"
     }
    },
    "9e7b9d8617864bcca259c8f95465d1c0": {
     "model_module": "@jupyter-widgets/base",
     "model_name": "LayoutModel",
     "state": {
      "_model_module": "@jupyter-widgets/base",
      "_model_module_version": "1.2.0",
      "_model_name": "LayoutModel",
      "_view_count": null,
      "_view_module": "@jupyter-widgets/base",
      "_view_module_version": "1.2.0",
      "_view_name": "LayoutView",
      "align_content": null,
      "align_items": null,
      "align_self": null,
      "border": null,
      "bottom": null,
      "display": null,
      "flex": null,
      "flex_flow": null,
      "grid_area": null,
      "grid_auto_columns": null,
      "grid_auto_flow": null,
      "grid_auto_rows": null,
      "grid_column": null,
      "grid_gap": null,
      "grid_row": null,
      "grid_template_areas": null,
      "grid_template_columns": null,
      "grid_template_rows": null,
      "height": null,
      "justify_content": null,
      "justify_items": null,
      "left": null,
      "margin": null,
      "max_height": null,
      "max_width": null,
      "min_height": null,
      "min_width": null,
      "object_fit": null,
      "object_position": null,
      "order": null,
      "overflow": null,
      "overflow_x": null,
      "overflow_y": null,
      "padding": null,
      "right": null,
      "top": null,
      "visibility": null,
      "width": null
     }
    },
    "a6bb2109a7654af58fb98fae9964208d": {
     "model_module": "@jupyter-widgets/controls",
     "model_name": "DescriptionStyleModel",
     "state": {
      "_model_module": "@jupyter-widgets/controls",
      "_model_module_version": "1.5.0",
      "_model_name": "DescriptionStyleModel",
      "_view_count": null,
      "_view_module": "@jupyter-widgets/base",
      "_view_module_version": "1.2.0",
      "_view_name": "StyleView",
      "description_width": ""
     }
    },
    "afc49175539e4c38abeeead5b6148ca9": {
     "model_module": "@jupyter-widgets/controls",
     "model_name": "DescriptionStyleModel",
     "state": {
      "_model_module": "@jupyter-widgets/controls",
      "_model_module_version": "1.5.0",
      "_model_name": "DescriptionStyleModel",
      "_view_count": null,
      "_view_module": "@jupyter-widgets/base",
      "_view_module_version": "1.2.0",
      "_view_name": "StyleView",
      "description_width": ""
     }
    },
    "c97a41cc2f244c9ca5e391b32ed2f065": {
     "model_module": "@jupyter-widgets/controls",
     "model_name": "HBoxModel",
     "state": {
      "_dom_classes": [],
      "_model_module": "@jupyter-widgets/controls",
      "_model_module_version": "1.5.0",
      "_model_name": "HBoxModel",
      "_view_count": null,
      "_view_module": "@jupyter-widgets/controls",
      "_view_module_version": "1.5.0",
      "_view_name": "HBoxView",
      "box_style": "",
      "children": [
       "IPY_MODEL_968358cf716a4328929857cc08bd6070",
       "IPY_MODEL_7f8c1f9ac06b408485a98098e077d40a"
      ],
      "layout": "IPY_MODEL_495b3ffe1269413897f93fc1dc24721f"
     }
    },
    "d019c157500e47c093b3e5d2a00fafc9": {
     "model_module": "@jupyter-widgets/base",
     "model_name": "LayoutModel",
     "state": {
      "_model_module": "@jupyter-widgets/base",
      "_model_module_version": "1.2.0",
      "_model_name": "LayoutModel",
      "_view_count": null,
      "_view_module": "@jupyter-widgets/base",
      "_view_module_version": "1.2.0",
      "_view_name": "LayoutView",
      "align_content": null,
      "align_items": null,
      "align_self": null,
      "border": null,
      "bottom": null,
      "display": null,
      "flex": null,
      "flex_flow": null,
      "grid_area": null,
      "grid_auto_columns": null,
      "grid_auto_flow": null,
      "grid_auto_rows": null,
      "grid_column": null,
      "grid_gap": null,
      "grid_row": null,
      "grid_template_areas": null,
      "grid_template_columns": null,
      "grid_template_rows": null,
      "height": null,
      "justify_content": null,
      "justify_items": null,
      "left": null,
      "margin": null,
      "max_height": null,
      "max_width": null,
      "min_height": null,
      "min_width": null,
      "object_fit": null,
      "object_position": null,
      "order": null,
      "overflow": null,
      "overflow_x": null,
      "overflow_y": null,
      "padding": null,
      "right": null,
      "top": null,
      "visibility": null,
      "width": null
     }
    },
    "d7d18d3167c9457080adddb69b89bde2": {
     "model_module": "@jupyter-widgets/controls",
     "model_name": "FloatProgressModel",
     "state": {
      "_dom_classes": [],
      "_model_module": "@jupyter-widgets/controls",
      "_model_module_version": "1.5.0",
      "_model_name": "FloatProgressModel",
      "_view_count": null,
      "_view_module": "@jupyter-widgets/controls",
      "_view_module_version": "1.5.0",
      "_view_name": "ProgressView",
      "bar_style": "success",
      "description": "",
      "description_tooltip": null,
      "layout": "IPY_MODEL_51a69e28869d4b64bfedc48aac573292",
      "max": 1,
      "min": 0,
      "orientation": "horizontal",
      "style": "IPY_MODEL_024aec9040de41309899ee700d9dea77",
      "value": 1
     }
    },
    "d9d628bf000549b2b55ffbbf95e783af": {
     "model_module": "@jupyter-widgets/controls",
     "model_name": "FloatProgressModel",
     "state": {
      "_dom_classes": [],
      "_model_module": "@jupyter-widgets/controls",
      "_model_module_version": "1.5.0",
      "_model_name": "FloatProgressModel",
      "_view_count": null,
      "_view_module": "@jupyter-widgets/controls",
      "_view_module_version": "1.5.0",
      "_view_name": "ProgressView",
      "bar_style": "success",
      "description": "",
      "description_tooltip": null,
      "layout": "IPY_MODEL_0afde93d59bc4af08229b2599daa4e23",
      "max": 1,
      "min": 0,
      "orientation": "horizontal",
      "style": "IPY_MODEL_726069b6af554f7f83f874f4ed16eea3",
      "value": 1
     }
    },
    "f622a97a81264244aaf622e3f1aced31": {
     "model_module": "@jupyter-widgets/controls",
     "model_name": "HBoxModel",
     "state": {
      "_dom_classes": [],
      "_model_module": "@jupyter-widgets/controls",
      "_model_module_version": "1.5.0",
      "_model_name": "HBoxModel",
      "_view_count": null,
      "_view_module": "@jupyter-widgets/controls",
      "_view_module_version": "1.5.0",
      "_view_name": "HBoxView",
      "box_style": "",
      "children": [
       "IPY_MODEL_d7d18d3167c9457080adddb69b89bde2",
       "IPY_MODEL_390018aa7e6e4f9495b9a4aa3153e3d0"
      ],
      "layout": "IPY_MODEL_42b9c80acada4b05a734b7404f7a8ea4"
     }
    },
    "f689e5b8d66d4a1c8c8c3ef226e0cc1b": {
     "model_module": "@jupyter-widgets/controls",
     "model_name": "HTMLModel",
     "state": {
      "_dom_classes": [],
      "_model_module": "@jupyter-widgets/controls",
      "_model_module_version": "1.5.0",
      "_model_name": "HTMLModel",
      "_view_count": null,
      "_view_module": "@jupyter-widgets/controls",
      "_view_module_version": "1.5.0",
      "_view_name": "HTMLView",
      "description": "",
      "description_tooltip": null,
      "layout": "IPY_MODEL_7a6558e9fa3241d99b7f449c9d287893",
      "placeholder": "​",
      "style": "IPY_MODEL_a6bb2109a7654af58fb98fae9964208d",
      "value": " 9920512/? [00:02&lt;00:00, 3450244.92it/s]"
     }
    }
   }
  }
 },
 "nbformat": 4,
 "nbformat_minor": 1
}
